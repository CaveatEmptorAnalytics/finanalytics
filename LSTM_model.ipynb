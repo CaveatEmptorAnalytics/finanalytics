{
  "nbformat": 4,
  "nbformat_minor": 5,
  "metadata": {
    "kernelspec": {
      "display_name": "Python 3",
      "language": "python",
      "name": "python3"
    },
    "language_info": {
      "codemirror_mode": {
        "name": "ipython",
        "version": 3
      },
      "file_extension": ".py",
      "mimetype": "text/x-python",
      "name": "python",
      "nbconvert_exporter": "python",
      "pygments_lexer": "ipython3",
      "version": "3.8.5"
    },
    "colab": {
      "name": "LSTM model.ipynb",
      "provenance": []
    }
  },
  "cells": [
    {
      "cell_type": "code",
      "metadata": {
        "id": "HeKU9rDtvIOy",
        "colab": {
          "base_uri": "https://localhost:8080/"
        },
        "outputId": "34718088-d5a7-49dc-9c61-dad73810b81e"
      },
      "source": [
        "pip install yfinance"
      ],
      "id": "HeKU9rDtvIOy",
      "execution_count": 133,
      "outputs": [
        {
          "output_type": "stream",
          "name": "stdout",
          "text": [
            "Requirement already satisfied: yfinance in /usr/local/lib/python3.7/dist-packages (0.1.64)\n",
            "Requirement already satisfied: multitasking>=0.0.7 in /usr/local/lib/python3.7/dist-packages (from yfinance) (0.0.9)\n",
            "Requirement already satisfied: requests>=2.20 in /usr/local/lib/python3.7/dist-packages (from yfinance) (2.23.0)\n",
            "Requirement already satisfied: pandas>=0.24 in /usr/local/lib/python3.7/dist-packages (from yfinance) (1.1.5)\n",
            "Requirement already satisfied: numpy>=1.15 in /usr/local/lib/python3.7/dist-packages (from yfinance) (1.19.5)\n",
            "Requirement already satisfied: lxml>=4.5.1 in /usr/local/lib/python3.7/dist-packages (from yfinance) (4.6.3)\n",
            "Requirement already satisfied: pytz>=2017.2 in /usr/local/lib/python3.7/dist-packages (from pandas>=0.24->yfinance) (2018.9)\n",
            "Requirement already satisfied: python-dateutil>=2.7.3 in /usr/local/lib/python3.7/dist-packages (from pandas>=0.24->yfinance) (2.8.2)\n",
            "Requirement already satisfied: six>=1.5 in /usr/local/lib/python3.7/dist-packages (from python-dateutil>=2.7.3->pandas>=0.24->yfinance) (1.15.0)\n",
            "Requirement already satisfied: certifi>=2017.4.17 in /usr/local/lib/python3.7/dist-packages (from requests>=2.20->yfinance) (2021.5.30)\n",
            "Requirement already satisfied: idna<3,>=2.5 in /usr/local/lib/python3.7/dist-packages (from requests>=2.20->yfinance) (2.10)\n",
            "Requirement already satisfied: chardet<4,>=3.0.2 in /usr/local/lib/python3.7/dist-packages (from requests>=2.20->yfinance) (3.0.4)\n",
            "Requirement already satisfied: urllib3!=1.25.0,!=1.25.1,<1.26,>=1.21.1 in /usr/local/lib/python3.7/dist-packages (from requests>=2.20->yfinance) (1.24.3)\n"
          ]
        }
      ]
    },
    {
      "cell_type": "code",
      "metadata": {
        "id": "kTyAdCkFumkG"
      },
      "source": [
        "import pandas as pd\n",
        "import numpy as np\n",
        "import matplotlib.pyplot as plt\n",
        "import scipy.stats as stat\n",
        "import statsmodels.api as sm\n",
        "\n",
        "from pandas_datareader import data\n",
        "from matplotlib.ticker import FuncFormatter \n",
        "from scipy.stats import norm\n",
        "from numpy import array\n",
        "from sklearn.preprocessing import MinMaxScaler\n",
        "%matplotlib inline\n",
        "# %matplotlib widget"
      ],
      "id": "kTyAdCkFumkG",
      "execution_count": 170,
      "outputs": []
    },
    {
      "cell_type": "code",
      "metadata": {
        "id": "LrJoc35b2JRU"
      },
      "source": [
        "tickers_list = ['BTC-USD', 'ETH-USD','LTC-USD']\n",
        "# tickers_list = \"\" Value indicated by top 10 currencies in our portfolio"
      ],
      "id": "LrJoc35b2JRU",
      "execution_count": 171,
      "outputs": []
    },
    {
      "cell_type": "code",
      "metadata": {
        "id": "wgVPCHW22P6s"
      },
      "source": [
        "START_DATE = '2020-01-01'\n",
        "END_DATE = '2021-12-31'\n"
      ],
      "id": "wgVPCHW22P6s",
      "execution_count": 172,
      "outputs": []
    },
    {
      "cell_type": "code",
      "metadata": {
        "colab": {
          "base_uri": "https://localhost:8080/"
        },
        "id": "ugmB5L3f1_sa",
        "outputId": "4bb2cb71-9581-453d-9f8b-ec6c691be09a"
      },
      "source": [
        "import yfinance as yf\n",
        "import numpy\n",
        "from tensorflow.keras.models import Sequential\n",
        "from tensorflow.keras.layers import Dense\n",
        "from tensorflow.keras.layers import LSTM\n",
        "\n",
        "def create_dataset(dataset, time_step=1):\n",
        "    dataX, dataY = [], []\n",
        "    for i in range(len(dataset)-time_step-1):\n",
        "        a = dataset[i:(i+time_step), 0]\n",
        "        dataX.append(a)\n",
        "        dataY.append(dataset[i + time_step, 0])\n",
        "        \n",
        "    return numpy.array(dataX), numpy.array(dataY)\n",
        "\n",
        "prices_df = yf.download(tickers_list, start=START_DATE, end=END_DATE, adjusted=True)\n",
        "prices_df = prices_df['Close']\n",
        "results = []"
      ],
      "id": "ugmB5L3f1_sa",
      "execution_count": 173,
      "outputs": [
        {
          "output_type": "stream",
          "name": "stdout",
          "text": [
            "[*********************100%***********************]  3 of 3 completed\n"
          ]
        }
      ]
    },
    {
      "cell_type": "code",
      "metadata": {
        "colab": {
          "base_uri": "https://localhost:8080/"
        },
        "id": "TW051vn2mIlO",
        "outputId": "5a3b18fb-e5ce-42ee-8b85-5d78df61c0f8"
      },
      "source": [
        "prices_df['BTC-USD'].iloc[-1]"
      ],
      "id": "TW051vn2mIlO",
      "execution_count": 174,
      "outputs": [
        {
          "output_type": "execute_result",
          "data": {
            "text/plain": [
              "62686.32421875"
            ]
          },
          "metadata": {},
          "execution_count": 174
        }
      ]
    },
    {
      "cell_type": "code",
      "metadata": {
        "id": "ItNuHJfd2r7T"
      },
      "source": [
        "original_price = []\n",
        "for ticker in tickers_list:\n",
        "  current_price = prices_df[ticker].iloc[-1]\n",
        "  original_price.append(current_price)\n",
        "original_price\n",
        "dataFrames_arr = []"
      ],
      "id": "ItNuHJfd2r7T",
      "execution_count": 175,
      "outputs": []
    },
    {
      "cell_type": "code",
      "metadata": {
        "id": "IOUCo_6wumkL",
        "colab": {
          "base_uri": "https://localhost:8080/"
        },
        "outputId": "e4114c2a-a5b2-468a-efc7-de06221931a5"
      },
      "source": [
        "for ticker in tickers_list:\n",
        "\n",
        "  close_df = prices_df[ticker]\n",
        "\n",
        "\n",
        "  scaler=MinMaxScaler(feature_range=(0,1))\n",
        "  close_df=scaler.fit_transform(np.array(close_df).reshape(-1,1))\n",
        "\n",
        "  training_size=int(len(close_df)*0.65)\n",
        "  test_size=len(close_df)-training_size\n",
        "  train_data,test_data=close_df[0:training_size,:],close_df[training_size:len(close_df),:1]\n",
        "\n",
        "\n",
        "  time_step = 100\n",
        "  X_train, y_train = create_dataset(train_data, time_step)\n",
        "  X_test, ytest = create_dataset(test_data, time_step)\n",
        "\n",
        "  X_train =X_train.reshape(X_train.shape[0],X_train.shape[1] , 1)\n",
        "  X_test = X_test.reshape(X_test.shape[0],X_test.shape[1] , 1)\n",
        "\n",
        "  model= Sequential()\n",
        "  model.add(LSTM(50,return_sequences=True,input_shape=(X_train.shape[1],X_train.shape[2])))\n",
        "  model.add(LSTM(50,return_sequences=True))\n",
        "  model.add(LSTM(50))\n",
        "  model.add(Dense(1))\n",
        "  model.compile(loss='mean_squared_error',optimizer='adam') \n",
        "  model.fit(X_train,y_train,validation_data=(X_test,ytest),epochs=5,batch_size = 32,verbose =1)\n",
        "\n",
        "  shape_input = test_data.shape[0]-100\n",
        "\n",
        "\n",
        "  x_input=test_data[shape_input:].reshape(1,-1)\n",
        "\n",
        "  temp_input=list(x_input)\n",
        "  temp_input=temp_input[0].tolist()\n",
        "\n",
        "\n",
        "\n",
        "  lst_output=[]\n",
        "  n_steps=100\n",
        "  i=0\n",
        "  while(i<30):\n",
        "      \n",
        "      if(len(temp_input)>100):\n",
        "          #print(temp_input)\n",
        "          x_input=np.array(temp_input[1:])\n",
        "          # print(\"{} day input {}\".format(i,x_input))\n",
        "          x_input=x_input.reshape(1,-1)\n",
        "          x_input = x_input.reshape((1, n_steps, 1))\n",
        "          #print(x_input)\n",
        "          yhat = model.predict(x_input, verbose=0)\n",
        "          # print(\"{} day output {}\".format(i,yhat))\n",
        "          temp_input.extend(yhat[0].tolist())\n",
        "          temp_input=temp_input[1:]\n",
        "          #print(temp_input)\n",
        "          lst_output.extend(yhat.tolist())\n",
        "          i=i+1\n",
        "      else:\n",
        "          x_input = x_input.reshape((1, n_steps,1))\n",
        "          yhat = model.predict(x_input, verbose=0)\n",
        "          # print(yhat[0])\n",
        "          temp_input.extend(yhat[0].tolist())\n",
        "          # print(len(temp_input))\n",
        "          lst_output.extend(yhat.tolist())\n",
        "          i=i+1\n",
        "\n",
        "\n",
        "  df3=close_df.tolist()\n",
        "  df3.extend(lst_output)\n",
        "\n",
        "  df3=scaler.inverse_transform(df3).tolist()\n",
        "  dataFrames_arr.append(df3)\n",
        "\n",
        "  results.append(df3[-1])"
      ],
      "id": "IOUCo_6wumkL",
      "execution_count": 176,
      "outputs": [
        {
          "output_type": "stream",
          "name": "stdout",
          "text": [
            "Epoch 1/5\n",
            "11/11 [==============================] - 8s 287ms/step - loss: 0.0316 - val_loss: 0.0174\n",
            "Epoch 2/5\n",
            "11/11 [==============================] - 2s 172ms/step - loss: 0.0050 - val_loss: 0.0595\n",
            "Epoch 3/5\n",
            "11/11 [==============================] - 2s 167ms/step - loss: 0.0052 - val_loss: 0.0098\n",
            "Epoch 4/5\n",
            "11/11 [==============================] - 2s 168ms/step - loss: 0.0038 - val_loss: 0.0140\n",
            "Epoch 5/5\n",
            "11/11 [==============================] - 2s 168ms/step - loss: 0.0038 - val_loss: 0.0177\n",
            "Epoch 1/5\n",
            "11/11 [==============================] - 9s 337ms/step - loss: 0.0114 - val_loss: 0.0211\n",
            "Epoch 2/5\n",
            "11/11 [==============================] - 2s 164ms/step - loss: 0.0017 - val_loss: 0.0412\n",
            "Epoch 3/5\n",
            "11/11 [==============================] - 2s 167ms/step - loss: 0.0011 - val_loss: 0.0107\n",
            "Epoch 4/5\n",
            "11/11 [==============================] - 2s 167ms/step - loss: 8.5677e-04 - val_loss: 0.0081\n",
            "Epoch 5/5\n",
            "11/11 [==============================] - 2s 167ms/step - loss: 7.9832e-04 - val_loss: 0.0090\n",
            "Epoch 1/5\n",
            "11/11 [==============================] - 8s 289ms/step - loss: 0.0145 - val_loss: 0.0060\n",
            "Epoch 2/5\n",
            "11/11 [==============================] - 2s 166ms/step - loss: 0.0032 - val_loss: 0.0059\n",
            "Epoch 3/5\n",
            "11/11 [==============================] - 2s 169ms/step - loss: 0.0024 - val_loss: 0.0045\n",
            "Epoch 4/5\n",
            "11/11 [==============================] - 2s 171ms/step - loss: 0.0020 - val_loss: 0.0034\n",
            "Epoch 5/5\n",
            "11/11 [==============================] - 2s 170ms/step - loss: 0.0017 - val_loss: 0.0038\n"
          ]
        }
      ]
    },
    {
      "cell_type": "code",
      "metadata": {
        "id": "r5si5gsuumkL",
        "colab": {
          "base_uri": "https://localhost:8080/"
        },
        "outputId": "fc132b0b-2609-4149-b8ed-d83aaef027c0"
      },
      "source": [
        "results"
      ],
      "id": "r5si5gsuumkL",
      "execution_count": 177,
      "outputs": [
        {
          "output_type": "execute_result",
          "data": {
            "text/plain": [
              "[[77762.31961663032], [3251.6492812168544], [228.03571928314275]]"
            ]
          },
          "metadata": {},
          "execution_count": 177
        }
      ]
    },
    {
      "cell_type": "code",
      "metadata": {
        "id": "O2NXvNlUnsTE"
      },
      "source": [
        "future_prices = []\n",
        "\n",
        "for pr in results:\n",
        "  future_prices.append(pr[0])\n",
        "\n"
      ],
      "id": "O2NXvNlUnsTE",
      "execution_count": 178,
      "outputs": []
    },
    {
      "cell_type": "code",
      "metadata": {
        "id": "7c1C9a9vn37f"
      },
      "source": [
        "array = []\n",
        "for i in range(len(original_price)):\n",
        "  eachTicker = []\n",
        "  eachTicker.append(original_price[i])\n",
        "  eachTicker.append(future_prices[i])\n",
        "  array.append(eachTicker)"
      ],
      "id": "7c1C9a9vn37f",
      "execution_count": 179,
      "outputs": []
    },
    {
      "cell_type": "code",
      "metadata": {
        "id": "Lbm1IORdumkL"
      },
      "source": [
        "df = pd.DataFrame(data = array, \n",
        "                  index = tickers_list, \n",
        "                  columns = ['original_prices','future_prices'])"
      ],
      "id": "Lbm1IORdumkL",
      "execution_count": 180,
      "outputs": []
    },
    {
      "cell_type": "code",
      "metadata": {
        "id": "PGMI_rymumkL"
      },
      "source": [
        "df['pct_change'] = ((df['future_prices'] - df['original_prices'])/df['original_prices']) * 100"
      ],
      "id": "PGMI_rymumkL",
      "execution_count": 181,
      "outputs": []
    },
    {
      "cell_type": "code",
      "metadata": {
        "id": "2TjF-EMkumkM",
        "colab": {
          "base_uri": "https://localhost:8080/",
          "height": 168
        },
        "outputId": "774697f8-5152-4da6-f9fc-2e2af99370f6"
      },
      "source": [
        "table_with_future_prices = dbc.Table.from_dataframe(df, striped=True, bordered=True, hover=True) #i dont know how to run this coz google lab dont have this module"
      ],
      "id": "2TjF-EMkumkM",
      "execution_count": 226,
      "outputs": [
        {
          "output_type": "error",
          "ename": "AttributeError",
          "evalue": "ignored",
          "traceback": [
            "\u001b[0;31m---------------------------------------------------------------------------\u001b[0m",
            "\u001b[0;31mAttributeError\u001b[0m                            Traceback (most recent call last)",
            "\u001b[0;32m<ipython-input-226-ba78d06f11cf>\u001b[0m in \u001b[0;36m<module>\u001b[0;34m()\u001b[0m\n\u001b[0;32m----> 1\u001b[0;31m \u001b[0mdcc\u001b[0m\u001b[0;34m.\u001b[0m\u001b[0mTable\u001b[0m\u001b[0;34m.\u001b[0m\u001b[0mfrom_dataframe\u001b[0m\u001b[0;34m(\u001b[0m\u001b[0mdf\u001b[0m\u001b[0;34m,\u001b[0m \u001b[0mstriped\u001b[0m\u001b[0;34m=\u001b[0m\u001b[0;32mTrue\u001b[0m\u001b[0;34m,\u001b[0m \u001b[0mbordered\u001b[0m\u001b[0;34m=\u001b[0m\u001b[0;32mTrue\u001b[0m\u001b[0;34m,\u001b[0m \u001b[0mhover\u001b[0m\u001b[0;34m=\u001b[0m\u001b[0;32mTrue\u001b[0m\u001b[0;34m)\u001b[0m\u001b[0;34m\u001b[0m\u001b[0;34m\u001b[0m\u001b[0m\n\u001b[0m",
            "\u001b[0;31mAttributeError\u001b[0m: module 'dash.dcc' has no attribute 'Table'"
          ]
        }
      ]
    },
    {
      "cell_type": "code",
      "metadata": {
        "id": "y_39Gy4R8YCm"
      },
      "source": [
        "from datetime import datetime\n",
        "\n",
        "from datetime import timedelta, date\n",
        "\n",
        "time_extension = len(df3) - 1\n",
        "\n",
        "EndDate = prices_df.index[0] + timedelta(days=time_extension)\n",
        "\n",
        "dateIndexes = pd.date_range(start='2020-01-01', end=EndDate)"
      ],
      "id": "y_39Gy4R8YCm",
      "execution_count": 210,
      "outputs": []
    },
    {
      "cell_type": "code",
      "metadata": {
        "id": "FZNfGO2rBH8o"
      },
      "source": [
        ""
      ],
      "id": "FZNfGO2rBH8o",
      "execution_count": 221,
      "outputs": []
    },
    {
      "cell_type": "code",
      "metadata": {
        "id": "Rd5Y06RM_lDI"
      },
      "source": [
        "import dash_core_components as dcc\n",
        "import plotly.graph_objs as go\n",
        "from dash import dcc\n",
        "graphs_arr = []\n",
        "for i in range(len(dataFrames_arr)):\n",
        "  title = 'Future prices of ' + tickers_list[i]\n",
        "  fig = go.Figure(data=[go.Scatter(x=dateIndexes, y=eachDf)])\n",
        "\n",
        "  graphs_arr.append(fig)"
      ],
      "id": "Rd5Y06RM_lDI",
      "execution_count": 223,
      "outputs": []
    },
    {
      "cell_type": "code",
      "metadata": {
        "colab": {
          "base_uri": "https://localhost:8080/"
        },
        "id": "n-mYu8OS_rV4",
        "outputId": "e152944d-fa60-41b2-86cf-32c15004a02e"
      },
      "source": [
        "graphs_arr"
      ],
      "id": "n-mYu8OS_rV4",
      "execution_count": 224,
      "outputs": [
        {
          "output_type": "execute_result",
          "data": {
            "text/plain": [
              "[Figure({\n",
              "     'data': [{'type': 'scatter',\n",
              "               'x': array([datetime.datetime(2020, 1, 1, 0, 0),\n",
              "                           datetime.datetime(2020, 1, 2, 0, 0),\n",
              "                           datetime.datetime(2020, 1, 3, 0, 0), ...,\n",
              "                           datetime.datetime(2021, 11, 19, 0, 0),\n",
              "                           datetime.datetime(2021, 11, 20, 0, 0),\n",
              "                           datetime.datetime(2021, 11, 21, 0, 0)], dtype=object),\n",
              "               'y': [[4.511590003967285], [4.648940086364746], [4.626200199127197],\n",
              "                     ..., [178.39640435430167], [177.2515524852551],\n",
              "                     [176.1293309712802]]}],\n",
              "     'layout': {'template': '...'}\n",
              " }), Figure({\n",
              "     'data': [{'type': 'scatter',\n",
              "               'x': array([datetime.datetime(2020, 1, 1, 0, 0),\n",
              "                           datetime.datetime(2020, 1, 2, 0, 0),\n",
              "                           datetime.datetime(2020, 1, 3, 0, 0), ...,\n",
              "                           datetime.datetime(2021, 11, 19, 0, 0),\n",
              "                           datetime.datetime(2021, 11, 20, 0, 0),\n",
              "                           datetime.datetime(2021, 11, 21, 0, 0)], dtype=object),\n",
              "               'y': [[4.511590003967285], [4.648940086364746], [4.626200199127197],\n",
              "                     ..., [178.39640435430167], [177.2515524852551],\n",
              "                     [176.1293309712802]]}],\n",
              "     'layout': {'template': '...'}\n",
              " }), Figure({\n",
              "     'data': [{'type': 'scatter',\n",
              "               'x': array([datetime.datetime(2020, 1, 1, 0, 0),\n",
              "                           datetime.datetime(2020, 1, 2, 0, 0),\n",
              "                           datetime.datetime(2020, 1, 3, 0, 0), ...,\n",
              "                           datetime.datetime(2021, 11, 19, 0, 0),\n",
              "                           datetime.datetime(2021, 11, 20, 0, 0),\n",
              "                           datetime.datetime(2021, 11, 21, 0, 0)], dtype=object),\n",
              "               'y': [[4.511590003967285], [4.648940086364746], [4.626200199127197],\n",
              "                     ..., [178.39640435430167], [177.2515524852551],\n",
              "                     [176.1293309712802]]}],\n",
              "     'layout': {'template': '...'}\n",
              " })]"
            ]
          },
          "metadata": {},
          "execution_count": 224
        }
      ]
    },
    {
      "cell_type": "code",
      "metadata": {
        "colab": {
          "base_uri": "https://localhost:8080/",
          "height": 311
        },
        "id": "5N8PU3OwCuyl",
        "outputId": "e2c59b61-924b-4896-8e8a-dc7403244882"
      },
      "source": [
        ""
      ],
      "id": "5N8PU3OwCuyl",
      "execution_count": 227,
      "outputs": [
        {
          "output_type": "error",
          "ename": "ModuleNotFoundError",
          "evalue": "ignored",
          "traceback": [
            "\u001b[0;31m---------------------------------------------------------------------------\u001b[0m",
            "\u001b[0;31mModuleNotFoundError\u001b[0m                       Traceback (most recent call last)",
            "\u001b[0;32m<ipython-input-227-886195fae823>\u001b[0m in \u001b[0;36m<module>\u001b[0;34m()\u001b[0m\n\u001b[0;32m----> 1\u001b[0;31m \u001b[0;32mimport\u001b[0m \u001b[0mdbc\u001b[0m\u001b[0;34m\u001b[0m\u001b[0;34m\u001b[0m\u001b[0m\n\u001b[0m",
            "\u001b[0;31mModuleNotFoundError\u001b[0m: No module named 'dbc'",
            "",
            "\u001b[0;31m---------------------------------------------------------------------------\u001b[0;32m\nNOTE: If your import is failing due to a missing package, you can\nmanually install dependencies using either !pip or !apt.\n\nTo view examples of installing some common dependencies, click the\n\"Open Examples\" button below.\n\u001b[0;31m---------------------------------------------------------------------------\u001b[0m\n"
          ],
          "errorDetails": {
            "actions": [
              {
                "action": "open_url",
                "actionText": "Open Examples",
                "url": "/notebooks/snippets/importing_libraries.ipynb"
              }
            ]
          }
        }
      ]
    },
    {
      "cell_type": "code",
      "metadata": {
        "id": "oc1_FC7nDCkA"
      },
      "source": [
        ""
      ],
      "id": "oc1_FC7nDCkA",
      "execution_count": null,
      "outputs": []
    }
  ]
}