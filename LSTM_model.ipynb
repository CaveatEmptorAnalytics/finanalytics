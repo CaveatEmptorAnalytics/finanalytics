{
  "nbformat": 4,
  "nbformat_minor": 5,
  "metadata": {
    "kernelspec": {
      "display_name": "Python 3",
      "language": "python",
      "name": "python3"
    },
    "language_info": {
      "codemirror_mode": {
        "name": "ipython",
        "version": 3
      },
      "file_extension": ".py",
      "mimetype": "text/x-python",
      "name": "python",
      "nbconvert_exporter": "python",
      "pygments_lexer": "ipython3",
      "version": "3.8.5"
    },
    "colab": {
      "name": "LSTM model.ipynb",
      "provenance": []
    }
  },
  "cells": [
    {
      "cell_type": "code",
      "metadata": {
        "id": "HeKU9rDtvIOy"
      },
      "source": [
        ""
      ],
      "id": "HeKU9rDtvIOy",
      "execution_count": null,
      "outputs": []
    },
    {
      "cell_type": "code",
      "metadata": {
        "id": "kTyAdCkFumkG",
        "colab": {
          "base_uri": "https://localhost:8080/"
        },
        "outputId": "69d88fb5-79e9-4392-8395-bc0a9c58ee1d"
      },
      "source": [
        "import pandas as pd\n",
        "import numpy as np\n",
        "import matplotlib.pyplot as plt\n",
        "import scipy.stats as stat\n",
        "import statsmodels.api as sm\n",
        "\n",
        "from pandas_datareader import data\n",
        "from matplotlib.ticker import FuncFormatter \n",
        "from scipy.stats import norm\n",
        "%matplotlib inline\n",
        "# %matplotlib widget"
      ],
      "id": "kTyAdCkFumkG",
      "execution_count": 4,
      "outputs": [
        {
          "output_type": "stream",
          "name": "stderr",
          "text": [
            "/usr/local/lib/python3.7/dist-packages/statsmodels/tools/_testing.py:19: FutureWarning: pandas.util.testing is deprecated. Use the functions in the public API at pandas.testing instead.\n",
            "  import pandas.util.testing as tm\n"
          ]
        }
      ]
    },
    {
      "cell_type": "code",
      "metadata": {
        "colab": {
          "base_uri": "https://localhost:8080/"
        },
        "id": "6agiEgQG5imR",
        "outputId": "842787b1-8950-47f1-8869-be5362144d3d"
      },
      "source": [
        "from google.colab import drive\n",
        "drive.mount('/content/drive')"
      ],
      "id": "6agiEgQG5imR",
      "execution_count": 1,
      "outputs": [
        {
          "output_type": "stream",
          "name": "stdout",
          "text": [
            "Mounted at /content/drive\n"
          ]
        }
      ]
    },
    {
      "cell_type": "code",
      "metadata": {
        "id": "JRQ8g7Bs53uY"
      },
      "source": [
        "close_df = pd.read_csv('/content/drive/MyDrive/btc_usd_prices.csv')"
      ],
      "id": "JRQ8g7Bs53uY",
      "execution_count": 5,
      "outputs": []
    },
    {
      "cell_type": "code",
      "metadata": {
        "id": "-JvreDfMumkI"
      },
      "source": [
        "from datetime import datetime\n",
        "today = datetime.today().strftime('%Y-%m-%d')"
      ],
      "id": "-JvreDfMumkI",
      "execution_count": null,
      "outputs": []
    },
    {
      "cell_type": "code",
      "metadata": {
        "id": "xr3WhPj_umkI"
      },
      "source": [
        "start_date = '2014-01-01'\n",
        "end_date = '2020-12-31'\n",
        "end_date = today"
      ],
      "id": "xr3WhPj_umkI",
      "execution_count": null,
      "outputs": []
    },
    {
      "cell_type": "code",
      "metadata": {
        "colab": {
          "base_uri": "https://localhost:8080/",
          "height": 408
        },
        "id": "-F5yFfK2umkJ",
        "outputId": "ced00a5c-ecdf-4841-f0e0-2c35387bd6e1"
      },
      "source": [
        "ticker = ['BTC-USD']\n",
        "panel_data = data.DataReader(ticker, 'yahoo', start_date, end_date)\n",
        "\n",
        "#get the close price\n",
        "close_df = panel_data['Close']"
      ],
      "id": "-F5yFfK2umkJ",
      "execution_count": null,
      "outputs": [
        {
          "output_type": "stream",
          "name": "stderr",
          "text": [
            "/usr/local/lib/python3.7/dist-packages/pandas_datareader/base.py:272: SymbolWarning: Failed to read symbol: 'BTC-USD', replacing with NaN.\n",
            "  warnings.warn(msg.format(sym), SymbolWarning)\n"
          ]
        },
        {
          "output_type": "error",
          "ename": "RemoteDataError",
          "evalue": "ignored",
          "traceback": [
            "\u001b[0;31m---------------------------------------------------------------------------\u001b[0m",
            "\u001b[0;31mRemoteDataError\u001b[0m                           Traceback (most recent call last)",
            "\u001b[0;32m<ipython-input-12-1bb070c65283>\u001b[0m in \u001b[0;36m<module>\u001b[0;34m()\u001b[0m\n\u001b[1;32m      1\u001b[0m \u001b[0mticker\u001b[0m \u001b[0;34m=\u001b[0m \u001b[0;34m[\u001b[0m\u001b[0;34m'BTC-USD'\u001b[0m\u001b[0;34m]\u001b[0m\u001b[0;34m\u001b[0m\u001b[0;34m\u001b[0m\u001b[0m\n\u001b[0;32m----> 2\u001b[0;31m \u001b[0mpanel_data\u001b[0m \u001b[0;34m=\u001b[0m \u001b[0mdata\u001b[0m\u001b[0;34m.\u001b[0m\u001b[0mDataReader\u001b[0m\u001b[0;34m(\u001b[0m\u001b[0mticker\u001b[0m\u001b[0;34m,\u001b[0m \u001b[0;34m'yahoo'\u001b[0m\u001b[0;34m,\u001b[0m \u001b[0mstart_date\u001b[0m\u001b[0;34m,\u001b[0m \u001b[0mend_date\u001b[0m\u001b[0;34m)\u001b[0m\u001b[0;34m\u001b[0m\u001b[0;34m\u001b[0m\u001b[0m\n\u001b[0m\u001b[1;32m      3\u001b[0m \u001b[0;34m\u001b[0m\u001b[0m\n\u001b[1;32m      4\u001b[0m \u001b[0;31m#get the close price\u001b[0m\u001b[0;34m\u001b[0m\u001b[0;34m\u001b[0m\u001b[0;34m\u001b[0m\u001b[0m\n\u001b[1;32m      5\u001b[0m \u001b[0mclose_df\u001b[0m \u001b[0;34m=\u001b[0m \u001b[0mpanel_data\u001b[0m\u001b[0;34m[\u001b[0m\u001b[0;34m'Close'\u001b[0m\u001b[0;34m]\u001b[0m\u001b[0;34m\u001b[0m\u001b[0;34m\u001b[0m\u001b[0m\n",
            "\u001b[0;32m/usr/local/lib/python3.7/dist-packages/pandas/util/_decorators.py\u001b[0m in \u001b[0;36mwrapper\u001b[0;34m(*args, **kwargs)\u001b[0m\n\u001b[1;32m    197\u001b[0m                 \u001b[0;32melse\u001b[0m\u001b[0;34m:\u001b[0m\u001b[0;34m\u001b[0m\u001b[0;34m\u001b[0m\u001b[0m\n\u001b[1;32m    198\u001b[0m                     \u001b[0mkwargs\u001b[0m\u001b[0;34m[\u001b[0m\u001b[0mnew_arg_name\u001b[0m\u001b[0;34m]\u001b[0m \u001b[0;34m=\u001b[0m \u001b[0mnew_arg_value\u001b[0m\u001b[0;34m\u001b[0m\u001b[0;34m\u001b[0m\u001b[0m\n\u001b[0;32m--> 199\u001b[0;31m             \u001b[0;32mreturn\u001b[0m \u001b[0mfunc\u001b[0m\u001b[0;34m(\u001b[0m\u001b[0;34m*\u001b[0m\u001b[0margs\u001b[0m\u001b[0;34m,\u001b[0m \u001b[0;34m**\u001b[0m\u001b[0mkwargs\u001b[0m\u001b[0;34m)\u001b[0m\u001b[0;34m\u001b[0m\u001b[0;34m\u001b[0m\u001b[0m\n\u001b[0m\u001b[1;32m    200\u001b[0m \u001b[0;34m\u001b[0m\u001b[0m\n\u001b[1;32m    201\u001b[0m         \u001b[0;32mreturn\u001b[0m \u001b[0mcast\u001b[0m\u001b[0;34m(\u001b[0m\u001b[0mF\u001b[0m\u001b[0;34m,\u001b[0m \u001b[0mwrapper\u001b[0m\u001b[0;34m)\u001b[0m\u001b[0;34m\u001b[0m\u001b[0;34m\u001b[0m\u001b[0m\n",
            "\u001b[0;32m/usr/local/lib/python3.7/dist-packages/pandas_datareader/data.py\u001b[0m in \u001b[0;36mDataReader\u001b[0;34m(name, data_source, start, end, retry_count, pause, session, api_key)\u001b[0m\n\u001b[1;32m    382\u001b[0m             \u001b[0mretry_count\u001b[0m\u001b[0;34m=\u001b[0m\u001b[0mretry_count\u001b[0m\u001b[0;34m,\u001b[0m\u001b[0;34m\u001b[0m\u001b[0;34m\u001b[0m\u001b[0m\n\u001b[1;32m    383\u001b[0m             \u001b[0mpause\u001b[0m\u001b[0;34m=\u001b[0m\u001b[0mpause\u001b[0m\u001b[0;34m,\u001b[0m\u001b[0;34m\u001b[0m\u001b[0;34m\u001b[0m\u001b[0m\n\u001b[0;32m--> 384\u001b[0;31m             \u001b[0msession\u001b[0m\u001b[0;34m=\u001b[0m\u001b[0msession\u001b[0m\u001b[0;34m,\u001b[0m\u001b[0;34m\u001b[0m\u001b[0;34m\u001b[0m\u001b[0m\n\u001b[0m\u001b[1;32m    385\u001b[0m         ).read()\n\u001b[1;32m    386\u001b[0m \u001b[0;34m\u001b[0m\u001b[0m\n",
            "\u001b[0;32m/usr/local/lib/python3.7/dist-packages/pandas_datareader/base.py\u001b[0m in \u001b[0;36mread\u001b[0;34m(self)\u001b[0m\n\u001b[1;32m    256\u001b[0m             \u001b[0mdf\u001b[0m \u001b[0;34m=\u001b[0m \u001b[0mself\u001b[0m\u001b[0;34m.\u001b[0m\u001b[0m_dl_mult_symbols\u001b[0m\u001b[0;34m(\u001b[0m\u001b[0mself\u001b[0m\u001b[0;34m.\u001b[0m\u001b[0msymbols\u001b[0m\u001b[0;34m.\u001b[0m\u001b[0mindex\u001b[0m\u001b[0;34m)\u001b[0m\u001b[0;34m\u001b[0m\u001b[0;34m\u001b[0m\u001b[0m\n\u001b[1;32m    257\u001b[0m         \u001b[0;32melse\u001b[0m\u001b[0;34m:\u001b[0m\u001b[0;34m\u001b[0m\u001b[0;34m\u001b[0m\u001b[0m\n\u001b[0;32m--> 258\u001b[0;31m             \u001b[0mdf\u001b[0m \u001b[0;34m=\u001b[0m \u001b[0mself\u001b[0m\u001b[0;34m.\u001b[0m\u001b[0m_dl_mult_symbols\u001b[0m\u001b[0;34m(\u001b[0m\u001b[0mself\u001b[0m\u001b[0;34m.\u001b[0m\u001b[0msymbols\u001b[0m\u001b[0;34m)\u001b[0m\u001b[0;34m\u001b[0m\u001b[0;34m\u001b[0m\u001b[0m\n\u001b[0m\u001b[1;32m    259\u001b[0m         \u001b[0;32mreturn\u001b[0m \u001b[0mdf\u001b[0m\u001b[0;34m\u001b[0m\u001b[0;34m\u001b[0m\u001b[0m\n\u001b[1;32m    260\u001b[0m \u001b[0;34m\u001b[0m\u001b[0m\n",
            "\u001b[0;32m/usr/local/lib/python3.7/dist-packages/pandas_datareader/base.py\u001b[0m in \u001b[0;36m_dl_mult_symbols\u001b[0;34m(self, symbols)\u001b[0m\n\u001b[1;32m    275\u001b[0m         \u001b[0;32mif\u001b[0m \u001b[0mlen\u001b[0m\u001b[0;34m(\u001b[0m\u001b[0mpassed\u001b[0m\u001b[0;34m)\u001b[0m \u001b[0;34m==\u001b[0m \u001b[0;36m0\u001b[0m\u001b[0;34m:\u001b[0m\u001b[0;34m\u001b[0m\u001b[0;34m\u001b[0m\u001b[0m\n\u001b[1;32m    276\u001b[0m             \u001b[0mmsg\u001b[0m \u001b[0;34m=\u001b[0m \u001b[0;34m\"No data fetched using {0!r}\"\u001b[0m\u001b[0;34m\u001b[0m\u001b[0;34m\u001b[0m\u001b[0m\n\u001b[0;32m--> 277\u001b[0;31m             \u001b[0;32mraise\u001b[0m \u001b[0mRemoteDataError\u001b[0m\u001b[0;34m(\u001b[0m\u001b[0mmsg\u001b[0m\u001b[0;34m.\u001b[0m\u001b[0mformat\u001b[0m\u001b[0;34m(\u001b[0m\u001b[0mself\u001b[0m\u001b[0;34m.\u001b[0m\u001b[0m__class__\u001b[0m\u001b[0;34m.\u001b[0m\u001b[0m__name__\u001b[0m\u001b[0;34m)\u001b[0m\u001b[0;34m)\u001b[0m\u001b[0;34m\u001b[0m\u001b[0;34m\u001b[0m\u001b[0m\n\u001b[0m\u001b[1;32m    278\u001b[0m         \u001b[0;32mtry\u001b[0m\u001b[0;34m:\u001b[0m\u001b[0;34m\u001b[0m\u001b[0;34m\u001b[0m\u001b[0m\n\u001b[1;32m    279\u001b[0m             \u001b[0;32mif\u001b[0m \u001b[0mlen\u001b[0m\u001b[0;34m(\u001b[0m\u001b[0mstocks\u001b[0m\u001b[0;34m)\u001b[0m \u001b[0;34m>\u001b[0m \u001b[0;36m0\u001b[0m \u001b[0;32mand\u001b[0m \u001b[0mlen\u001b[0m\u001b[0;34m(\u001b[0m\u001b[0mfailed\u001b[0m\u001b[0;34m)\u001b[0m \u001b[0;34m>\u001b[0m \u001b[0;36m0\u001b[0m \u001b[0;32mand\u001b[0m \u001b[0mlen\u001b[0m\u001b[0;34m(\u001b[0m\u001b[0mpassed\u001b[0m\u001b[0;34m)\u001b[0m \u001b[0;34m>\u001b[0m \u001b[0;36m0\u001b[0m\u001b[0;34m:\u001b[0m\u001b[0;34m\u001b[0m\u001b[0;34m\u001b[0m\u001b[0m\n",
            "\u001b[0;31mRemoteDataError\u001b[0m: No data fetched using 'YahooDailyReader'"
          ]
        }
      ]
    },
    {
      "cell_type": "code",
      "metadata": {
        "id": "bTYP9DSHumkJ"
      },
      "source": [
        "close_df.set_index('Date',inplace = True)"
      ],
      "id": "bTYP9DSHumkJ",
      "execution_count": 9,
      "outputs": []
    },
    {
      "cell_type": "code",
      "metadata": {
        "id": "ASqcCQKYumkK",
        "colab": {
          "base_uri": "https://localhost:8080/"
        },
        "outputId": "47b17089-930a-4eb1-b0b5-c35f5ee3fc5b"
      },
      "source": [
        "close_df.shape"
      ],
      "id": "ASqcCQKYumkK",
      "execution_count": 10,
      "outputs": [
        {
          "output_type": "execute_result",
          "data": {
            "text/plain": [
              "(647, 1)"
            ]
          },
          "metadata": {},
          "execution_count": 10
        }
      ]
    },
    {
      "cell_type": "code",
      "metadata": {
        "id": "p82ncG5xumkK",
        "colab": {
          "base_uri": "https://localhost:8080/",
          "height": 282
        },
        "outputId": "88e1e630-6a5d-4c5b-c9d2-2b4ccd55899d"
      },
      "source": [
        "plt.plot(close_df)"
      ],
      "id": "p82ncG5xumkK",
      "execution_count": 11,
      "outputs": [
        {
          "output_type": "execute_result",
          "data": {
            "text/plain": [
              "[<matplotlib.lines.Line2D at 0x7fcecd2f5f90>]"
            ]
          },
          "metadata": {},
          "execution_count": 11
        },
        {
          "output_type": "display_data",
          "data": {
            "image/png": "[encoded data removed]",
            "text/plain": [
              "<Figure size 432x288 with 1 Axes>"
            ]
          },
          "metadata": {
            "needs_background": "light"
          }
        }
      ]
    },
    {
      "cell_type": "code",
      "metadata": {
        "id": "IOUCo_6wumkL"
      },
      "source": [
        "from sklearn.preprocessing import MinMaxScaler\n",
        "scaler=MinMaxScaler(feature_range=(0,1))\n",
        "close_df=scaler.fit_transform(np.array(close_df).reshape(-1,1))"
      ],
      "id": "IOUCo_6wumkL",
      "execution_count": 12,
      "outputs": []
    },
    {
      "cell_type": "code",
      "metadata": {
        "id": "r5si5gsuumkL",
        "colab": {
          "base_uri": "https://localhost:8080/"
        },
        "outputId": "f1201b93-34d5-474a-b24d-3e38ccffe364"
      },
      "source": [
        "close_df.shape"
      ],
      "id": "r5si5gsuumkL",
      "execution_count": 13,
      "outputs": [
        {
          "output_type": "execute_result",
          "data": {
            "text/plain": [
              "(647, 1)"
            ]
          },
          "metadata": {},
          "execution_count": 13
        }
      ]
    },
    {
      "cell_type": "code",
      "metadata": {
        "id": "Lbm1IORdumkL"
      },
      "source": [
        "training_size=int(len(close_df)*0.65)\n",
        "test_size=len(close_df)-training_size\n",
        "train_data,test_data=close_df[0:training_size,:],close_df[training_size:len(close_df),:1]"
      ],
      "id": "Lbm1IORdumkL",
      "execution_count": 14,
      "outputs": []
    },
    {
      "cell_type": "code",
      "metadata": {
        "id": "PGMI_rymumkL",
        "colab": {
          "base_uri": "https://localhost:8080/"
        },
        "outputId": "38de82f9-7692-4827-c0df-dcba603ba685"
      },
      "source": [
        "training_size,test_size"
      ],
      "id": "PGMI_rymumkL",
      "execution_count": 15,
      "outputs": [
        {
          "output_type": "execute_result",
          "data": {
            "text/plain": [
              "(420, 227)"
            ]
          },
          "metadata": {},
          "execution_count": 15
        }
      ]
    },
    {
      "cell_type": "code",
      "metadata": {
        "id": "2TjF-EMkumkM"
      },
      "source": [
        "import numpy\n",
        "\n",
        "def create_dataset(dataset, time_step=1):\n",
        "    dataX, dataY = [], []\n",
        "    for i in range(len(dataset)-time_step-1):\n",
        "        a = dataset[i:(i+time_step), 0]\n",
        "        dataX.append(a)\n",
        "        dataY.append(dataset[i + time_step, 0])\n",
        "        \n",
        "    return numpy.array(dataX), numpy.array(dataY)\n",
        "time_step = 100\n",
        "X_train, y_train = create_dataset(train_data, time_step)\n",
        "X_test, ytest = create_dataset(test_data, time_step)"
      ],
      "id": "2TjF-EMkumkM",
      "execution_count": 16,
      "outputs": []
    },
    {
      "cell_type": "code",
      "metadata": {
        "id": "8GY8IbA_umkM",
        "colab": {
          "base_uri": "https://localhost:8080/"
        },
        "outputId": "1dee7207-9951-4c4e-f4c4-8f2b738ede08"
      },
      "source": [
        "X_train.shape, y_train.shape"
      ],
      "id": "8GY8IbA_umkM",
      "execution_count": 17,
      "outputs": [
        {
          "output_type": "execute_result",
          "data": {
            "text/plain": [
              "((319, 100), (319,))"
            ]
          },
          "metadata": {},
          "execution_count": 17
        }
      ]
    },
    {
      "cell_type": "code",
      "metadata": {
        "id": "HT7p-z1sumkM",
        "colab": {
          "base_uri": "https://localhost:8080/"
        },
        "outputId": "dd31fca2-d338-4ea9-9ea7-16b05bec54de"
      },
      "source": [
        "X_test.shape, ytest.shape"
      ],
      "id": "HT7p-z1sumkM",
      "execution_count": 18,
      "outputs": [
        {
          "output_type": "execute_result",
          "data": {
            "text/plain": [
              "((126, 100), (126,))"
            ]
          },
          "metadata": {},
          "execution_count": 18
        }
      ]
    },
    {
      "cell_type": "code",
      "metadata": {
        "id": "6ozqvi6GumkM"
      },
      "source": [
        "X_train =X_train.reshape(X_train.shape[0],X_train.shape[1] , 1)\n",
        "X_test = X_test.reshape(X_test.shape[0],X_test.shape[1] , 1)"
      ],
      "id": "6ozqvi6GumkM",
      "execution_count": 19,
      "outputs": []
    },
    {
      "cell_type": "code",
      "metadata": {
        "id": "pK97g3bVumkN",
        "colab": {
          "base_uri": "https://localhost:8080/"
        },
        "outputId": "ba40d84e-0577-47af-ec24-49baa10b0c78"
      },
      "source": [
        "X_train.shape , X_test.shape"
      ],
      "id": "pK97g3bVumkN",
      "execution_count": 20,
      "outputs": [
        {
          "output_type": "execute_result",
          "data": {
            "text/plain": [
              "((319, 100, 1), (126, 100, 1))"
            ]
          },
          "metadata": {},
          "execution_count": 20
        }
      ]
    },
    {
      "cell_type": "code",
      "metadata": {
        "id": "EFYWi1MRumkN"
      },
      "source": [
        "from tensorflow.keras.models import Sequential\n",
        "from tensorflow.keras.layers import Dense\n",
        "from tensorflow.keras.layers import LSTM"
      ],
      "id": "EFYWi1MRumkN",
      "execution_count": 21,
      "outputs": []
    },
    {
      "cell_type": "code",
      "metadata": {
        "id": "I_gAQAauumkN"
      },
      "source": [
        "model= Sequential()\n",
        "model.add(LSTM(50,return_sequences=True,input_shape=(X_train.shape[1],X_train.shape[2])))\n",
        "model.add(LSTM(50,return_sequences=True))\n",
        "model.add(LSTM(50))\n",
        "model.add(Dense(1))\n",
        "model.compile(loss='mean_squared_error',optimizer='adam')"
      ],
      "id": "I_gAQAauumkN",
      "execution_count": 22,
      "outputs": []
    },
    {
      "cell_type": "code",
      "metadata": {
        "id": "xdN36G7-umkO",
        "colab": {
          "base_uri": "https://localhost:8080/"
        },
        "outputId": "b4ed8276-438f-45fb-f247-778c20da3f74"
      },
      "source": [
        "model.summary()"
      ],
      "id": "xdN36G7-umkO",
      "execution_count": 23,
      "outputs": [
        {
          "output_type": "stream",
          "name": "stdout",
          "text": [
            "Model: \"sequential\"\n",
            "_________________________________________________________________\n",
            "Layer (type)                 Output Shape              Param #   \n",
            "=================================================================\n",
            "lstm (LSTM)                  (None, 100, 50)           10400     \n",
            "_________________________________________________________________\n",
            "lstm_1 (LSTM)                (None, 100, 50)           20200     \n",
            "_________________________________________________________________\n",
            "lstm_2 (LSTM)                (None, 50)                20200     \n",
            "_________________________________________________________________\n",
            "dense (Dense)                (None, 1)                 51        \n",
            "=================================================================\n",
            "Total params: 50,851\n",
            "Trainable params: 50,851\n",
            "Non-trainable params: 0\n",
            "_________________________________________________________________\n"
          ]
        }
      ]
    },
    {
      "cell_type": "code",
      "metadata": {
        "id": "iBneSP_-umkO",
        "colab": {
          "base_uri": "https://localhost:8080/"
        },
        "outputId": "15e5eb3d-8da6-438f-c97f-e7f2a2e0acc7"
      },
      "source": [
        "model.fit(X_train,y_train,validation_data=(X_test,ytest),epochs=100,batch_size = 64,verbose =1)"
      ],
      "id": "iBneSP_-umkO",
      "execution_count": 24,
      "outputs": [
        {
          "output_type": "stream",
          "name": "stdout",
          "text": [
            "Epoch 1/100\n",
            "5/5 [==============================] - 7s 475ms/step - loss: 0.0436 - val_loss: 0.0091\n",
            "Epoch 2/100\n",
            "5/5 [==============================] - 1s 186ms/step - loss: 0.0155 - val_loss: 0.0065\n",
            "Epoch 3/100\n",
            "5/5 [==============================] - 1s 183ms/step - loss: 0.0066 - val_loss: 0.0243\n",
            "Epoch 4/100\n",
            "5/5 [==============================] - 1s 187ms/step - loss: 0.0067 - val_loss: 0.0138\n",
            "Epoch 5/100\n",
            "5/5 [==============================] - 1s 186ms/step - loss: 0.0039 - val_loss: 0.0496\n",
            "Epoch 6/100\n",
            "5/5 [==============================] - 1s 188ms/step - loss: 0.0027 - val_loss: 0.0064\n",
            "Epoch 7/100\n",
            "5/5 [==============================] - 1s 183ms/step - loss: 0.0030 - val_loss: 0.0098\n",
            "Epoch 8/100\n",
            "5/5 [==============================] - 1s 186ms/step - loss: 0.0023 - val_loss: 0.0264\n",
            "Epoch 9/100\n",
            "5/5 [==============================] - 1s 183ms/step - loss: 0.0023 - val_loss: 0.0072\n",
            "Epoch 10/100\n",
            "5/5 [==============================] - 1s 188ms/step - loss: 0.0022 - val_loss: 0.0065\n",
            "Epoch 11/100\n",
            "5/5 [==============================] - 1s 184ms/step - loss: 0.0020 - val_loss: 0.0142\n",
            "Epoch 12/100\n",
            "5/5 [==============================] - 1s 187ms/step - loss: 0.0021 - val_loss: 0.0125\n",
            "Epoch 13/100\n",
            "5/5 [==============================] - 1s 182ms/step - loss: 0.0020 - val_loss: 0.0067\n",
            "Epoch 14/100\n",
            "5/5 [==============================] - 1s 182ms/step - loss: 0.0020 - val_loss: 0.0122\n",
            "Epoch 15/100\n",
            "5/5 [==============================] - 1s 184ms/step - loss: 0.0020 - val_loss: 0.0099\n",
            "Epoch 16/100\n",
            "5/5 [==============================] - 1s 186ms/step - loss: 0.0019 - val_loss: 0.0077\n",
            "Epoch 17/100\n",
            "5/5 [==============================] - 1s 183ms/step - loss: 0.0020 - val_loss: 0.0082\n",
            "Epoch 18/100\n",
            "5/5 [==============================] - 1s 188ms/step - loss: 0.0019 - val_loss: 0.0119\n",
            "Epoch 19/100\n",
            "5/5 [==============================] - 1s 186ms/step - loss: 0.0020 - val_loss: 0.0064\n",
            "Epoch 20/100\n",
            "5/5 [==============================] - 1s 187ms/step - loss: 0.0018 - val_loss: 0.0101\n",
            "Epoch 21/100\n",
            "5/5 [==============================] - 1s 189ms/step - loss: 0.0019 - val_loss: 0.0086\n",
            "Epoch 22/100\n",
            "5/5 [==============================] - 1s 190ms/step - loss: 0.0018 - val_loss: 0.0070\n",
            "Epoch 23/100\n",
            "5/5 [==============================] - 1s 191ms/step - loss: 0.0017 - val_loss: 0.0095\n",
            "Epoch 24/100\n",
            "5/5 [==============================] - 1s 184ms/step - loss: 0.0018 - val_loss: 0.0064\n",
            "Epoch 25/100\n",
            "5/5 [==============================] - 1s 186ms/step - loss: 0.0017 - val_loss: 0.0063\n",
            "Epoch 26/100\n",
            "5/5 [==============================] - 1s 184ms/step - loss: 0.0017 - val_loss: 0.0071\n",
            "Epoch 27/100\n",
            "5/5 [==============================] - 1s 186ms/step - loss: 0.0017 - val_loss: 0.0068\n",
            "Epoch 28/100\n",
            "5/5 [==============================] - 1s 187ms/step - loss: 0.0018 - val_loss: 0.0048\n",
            "Epoch 29/100\n",
            "5/5 [==============================] - 1s 186ms/step - loss: 0.0016 - val_loss: 0.0092\n",
            "Epoch 30/100\n",
            "5/5 [==============================] - 1s 187ms/step - loss: 0.0017 - val_loss: 0.0047\n",
            "Epoch 31/100\n",
            "5/5 [==============================] - 1s 184ms/step - loss: 0.0016 - val_loss: 0.0073\n",
            "Epoch 32/100\n",
            "5/5 [==============================] - 1s 192ms/step - loss: 0.0016 - val_loss: 0.0062\n",
            "Epoch 33/100\n",
            "5/5 [==============================] - 1s 187ms/step - loss: 0.0017 - val_loss: 0.0047\n",
            "Epoch 34/100\n",
            "5/5 [==============================] - 1s 186ms/step - loss: 0.0016 - val_loss: 0.0077\n",
            "Epoch 35/100\n",
            "5/5 [==============================] - 1s 189ms/step - loss: 0.0015 - val_loss: 0.0035\n",
            "Epoch 36/100\n",
            "5/5 [==============================] - 1s 189ms/step - loss: 0.0014 - val_loss: 0.0064\n",
            "Epoch 37/100\n",
            "5/5 [==============================] - 1s 192ms/step - loss: 0.0016 - val_loss: 0.0037\n",
            "Epoch 38/100\n",
            "5/5 [==============================] - 1s 184ms/step - loss: 0.0017 - val_loss: 0.0057\n",
            "Epoch 39/100\n",
            "5/5 [==============================] - 1s 184ms/step - loss: 0.0015 - val_loss: 0.0053\n",
            "Epoch 40/100\n",
            "5/5 [==============================] - 1s 187ms/step - loss: 0.0013 - val_loss: 0.0035\n",
            "Epoch 41/100\n",
            "5/5 [==============================] - 1s 184ms/step - loss: 0.0012 - val_loss: 0.0070\n",
            "Epoch 42/100\n",
            "5/5 [==============================] - 1s 184ms/step - loss: 0.0012 - val_loss: 0.0035\n",
            "Epoch 43/100\n",
            "5/5 [==============================] - 1s 185ms/step - loss: 0.0012 - val_loss: 0.0050\n",
            "Epoch 44/100\n",
            "5/5 [==============================] - 1s 189ms/step - loss: 0.0012 - val_loss: 0.0046\n",
            "Epoch 45/100\n",
            "5/5 [==============================] - 1s 185ms/step - loss: 8.9166e-04 - val_loss: 0.0065\n",
            "Epoch 46/100\n",
            "5/5 [==============================] - 1s 185ms/step - loss: 7.8168e-04 - val_loss: 0.0084\n",
            "Epoch 47/100\n",
            "5/5 [==============================] - 1s 187ms/step - loss: 5.7745e-04 - val_loss: 0.0106\n",
            "Epoch 48/100\n",
            "5/5 [==============================] - 1s 186ms/step - loss: 6.3731e-04 - val_loss: 0.0154\n",
            "Epoch 49/100\n",
            "5/5 [==============================] - 1s 184ms/step - loss: 6.2355e-04 - val_loss: 0.0085\n",
            "Epoch 50/100\n",
            "5/5 [==============================] - 1s 187ms/step - loss: 6.5278e-04 - val_loss: 0.0139\n",
            "Epoch 51/100\n",
            "5/5 [==============================] - 1s 182ms/step - loss: 6.0309e-04 - val_loss: 0.0072\n",
            "Epoch 52/100\n",
            "5/5 [==============================] - 1s 186ms/step - loss: 6.3168e-04 - val_loss: 0.0130\n",
            "Epoch 53/100\n",
            "5/5 [==============================] - 1s 185ms/step - loss: 6.2717e-04 - val_loss: 0.0094\n",
            "Epoch 54/100\n",
            "5/5 [==============================] - 1s 187ms/step - loss: 5.1726e-04 - val_loss: 0.0138\n",
            "Epoch 55/100\n",
            "5/5 [==============================] - 1s 186ms/step - loss: 5.0439e-04 - val_loss: 0.0101\n",
            "Epoch 56/100\n",
            "5/5 [==============================] - 1s 186ms/step - loss: 5.2588e-04 - val_loss: 0.0126\n",
            "Epoch 57/100\n",
            "5/5 [==============================] - 1s 187ms/step - loss: 5.3730e-04 - val_loss: 0.0104\n",
            "Epoch 58/100\n",
            "5/5 [==============================] - 1s 185ms/step - loss: 4.9819e-04 - val_loss: 0.0099\n",
            "Epoch 59/100\n",
            "5/5 [==============================] - 1s 185ms/step - loss: 5.1957e-04 - val_loss: 0.0127\n",
            "Epoch 60/100\n",
            "5/5 [==============================] - 1s 183ms/step - loss: 5.2761e-04 - val_loss: 0.0117\n",
            "Epoch 61/100\n",
            "5/5 [==============================] - 1s 195ms/step - loss: 4.9342e-04 - val_loss: 0.0096\n",
            "Epoch 62/100\n",
            "5/5 [==============================] - 1s 188ms/step - loss: 5.4810e-04 - val_loss: 0.0151\n",
            "Epoch 63/100\n",
            "5/5 [==============================] - 1s 194ms/step - loss: 6.2648e-04 - val_loss: 0.0089\n",
            "Epoch 64/100\n",
            "5/5 [==============================] - 1s 184ms/step - loss: 7.0037e-04 - val_loss: 0.0109\n",
            "Epoch 65/100\n",
            "5/5 [==============================] - 1s 187ms/step - loss: 5.6432e-04 - val_loss: 0.0095\n",
            "Epoch 66/100\n",
            "5/5 [==============================] - 1s 190ms/step - loss: 5.2460e-04 - val_loss: 0.0086\n",
            "Epoch 67/100\n",
            "5/5 [==============================] - 1s 186ms/step - loss: 4.9979e-04 - val_loss: 0.0105\n",
            "Epoch 68/100\n",
            "5/5 [==============================] - 1s 188ms/step - loss: 6.0827e-04 - val_loss: 0.0083\n",
            "Epoch 69/100\n",
            "5/5 [==============================] - 1s 194ms/step - loss: 5.6977e-04 - val_loss: 0.0113\n",
            "Epoch 70/100\n",
            "5/5 [==============================] - 1s 189ms/step - loss: 5.9084e-04 - val_loss: 0.0094\n",
            "Epoch 71/100\n",
            "5/5 [==============================] - 1s 186ms/step - loss: 6.1336e-04 - val_loss: 0.0091\n",
            "Epoch 72/100\n",
            "5/5 [==============================] - 1s 187ms/step - loss: 6.1135e-04 - val_loss: 0.0093\n",
            "Epoch 73/100\n",
            "5/5 [==============================] - 1s 185ms/step - loss: 6.2946e-04 - val_loss: 0.0094\n",
            "Epoch 74/100\n",
            "5/5 [==============================] - 1s 185ms/step - loss: 5.3491e-04 - val_loss: 0.0084\n",
            "Epoch 75/100\n",
            "5/5 [==============================] - 1s 187ms/step - loss: 5.4060e-04 - val_loss: 0.0078\n",
            "Epoch 76/100\n",
            "5/5 [==============================] - 1s 189ms/step - loss: 5.9101e-04 - val_loss: 0.0153\n",
            "Epoch 77/100\n",
            "5/5 [==============================] - 1s 203ms/step - loss: 4.7026e-04 - val_loss: 0.0075\n",
            "Epoch 78/100\n",
            "5/5 [==============================] - 1s 188ms/step - loss: 5.3520e-04 - val_loss: 0.0087\n",
            "Epoch 79/100\n",
            "5/5 [==============================] - 1s 188ms/step - loss: 4.8891e-04 - val_loss: 0.0087\n",
            "Epoch 80/100\n",
            "5/5 [==============================] - 1s 192ms/step - loss: 5.0716e-04 - val_loss: 0.0080\n",
            "Epoch 81/100\n",
            "5/5 [==============================] - 1s 195ms/step - loss: 4.9140e-04 - val_loss: 0.0101\n",
            "Epoch 82/100\n",
            "5/5 [==============================] - 1s 184ms/step - loss: 4.5493e-04 - val_loss: 0.0086\n",
            "Epoch 83/100\n",
            "5/5 [==============================] - 1s 185ms/step - loss: 4.2930e-04 - val_loss: 0.0102\n",
            "Epoch 84/100\n",
            "5/5 [==============================] - 1s 189ms/step - loss: 4.5658e-04 - val_loss: 0.0086\n",
            "Epoch 85/100\n",
            "5/5 [==============================] - 1s 187ms/step - loss: 5.6187e-04 - val_loss: 0.0090\n",
            "Epoch 86/100\n",
            "5/5 [==============================] - 1s 186ms/step - loss: 4.8235e-04 - val_loss: 0.0083\n",
            "Epoch 87/100\n",
            "5/5 [==============================] - 1s 188ms/step - loss: 4.1346e-04 - val_loss: 0.0127\n",
            "Epoch 88/100\n",
            "5/5 [==============================] - 1s 186ms/step - loss: 4.7293e-04 - val_loss: 0.0085\n",
            "Epoch 89/100\n",
            "5/5 [==============================] - 1s 188ms/step - loss: 4.5841e-04 - val_loss: 0.0119\n",
            "Epoch 90/100\n",
            "5/5 [==============================] - 1s 189ms/step - loss: 4.7615e-04 - val_loss: 0.0088\n",
            "Epoch 91/100\n",
            "5/5 [==============================] - 1s 188ms/step - loss: 5.1599e-04 - val_loss: 0.0098\n",
            "Epoch 92/100\n",
            "5/5 [==============================] - 1s 184ms/step - loss: 5.0372e-04 - val_loss: 0.0085\n",
            "Epoch 93/100\n",
            "5/5 [==============================] - 1s 184ms/step - loss: 4.8781e-04 - val_loss: 0.0088\n",
            "Epoch 94/100\n",
            "5/5 [==============================] - 1s 187ms/step - loss: 4.3446e-04 - val_loss: 0.0085\n",
            "Epoch 95/100\n",
            "5/5 [==============================] - 1s 183ms/step - loss: 4.2586e-04 - val_loss: 0.0094\n",
            "Epoch 96/100\n",
            "5/5 [==============================] - 1s 189ms/step - loss: 3.9099e-04 - val_loss: 0.0088\n",
            "Epoch 97/100\n",
            "5/5 [==============================] - 1s 186ms/step - loss: 4.1263e-04 - val_loss: 0.0087\n",
            "Epoch 98/100\n",
            "5/5 [==============================] - 1s 187ms/step - loss: 4.1989e-04 - val_loss: 0.0091\n",
            "Epoch 99/100\n",
            "5/5 [==============================] - 1s 186ms/step - loss: 4.1924e-04 - val_loss: 0.0088\n",
            "Epoch 100/100\n",
            "5/5 [==============================] - 1s 202ms/step - loss: 4.0981e-04 - val_loss: 0.0088\n"
          ]
        },
        {
          "output_type": "execute_result",
          "data": {
            "text/plain": [
              "<keras.callbacks.History at 0x7fce802c7610>"
            ]
          },
          "metadata": {},
          "execution_count": 24
        }
      ]
    },
    {
      "cell_type": "code",
      "metadata": {
        "id": "1Bi_-AiOumkO"
      },
      "source": [
        "\n",
        "### Lets Do the prediction and check performance metrics\n",
        "train_predict=model.predict(X_train)\n",
        "test_predict=model.predict(X_test)"
      ],
      "id": "1Bi_-AiOumkO",
      "execution_count": 25,
      "outputs": []
    },
    {
      "cell_type": "code",
      "metadata": {
        "id": "FwEB8g6Y81K2"
      },
      "source": [
        "\n",
        "##Transformback to original form\n",
        "train_predict=scaler.inverse_transform(train_predict)\n",
        "test_predict=scaler.inverse_transform(test_predict)"
      ],
      "id": "FwEB8g6Y81K2",
      "execution_count": 29,
      "outputs": []
    },
    {
      "cell_type": "code",
      "metadata": {
        "colab": {
          "base_uri": "https://localhost:8080/",
          "height": 265
        },
        "id": "bahJ7KLK7x5C",
        "outputId": "ea4d2672-7830-4454-afb6-6433711962ad"
      },
      "source": [
        "\n",
        "### Plotting \n",
        "# shift train predictions for plotting\n",
        "look_back=100\n",
        "trainPredictPlot = numpy.empty_like(close_df)\n",
        "trainPredictPlot[:, :] = np.nan\n",
        "trainPredictPlot[look_back:len(train_predict)+look_back, :] = train_predict\n",
        "# shift test predictions for plotting\n",
        "testPredictPlot = numpy.empty_like(close_df)\n",
        "testPredictPlot[:, :] = numpy.nan\n",
        "testPredictPlot[len(train_predict)+(look_back*2)+1:len(close_df)-1, :] = test_predict\n",
        "# plot baseline and predictions\n",
        "plt.plot(scaler.inverse_transform(close_df))\n",
        "plt.plot(trainPredictPlot)\n",
        "plt.plot(testPredictPlot)\n",
        "plt.show()"
      ],
      "id": "bahJ7KLK7x5C",
      "execution_count": 30,
      "outputs": [
        {
          "output_type": "display_data",
          "data": {
            "image/png": "[encoded data removed]",
            "text/plain": [
              "<Figure size 432x288 with 1 Axes>"
            ]
          },
          "metadata": {
            "needs_background": "light"
          }
        }
      ]
    },
    {
      "cell_type": "code",
      "metadata": {
        "colab": {
          "base_uri": "https://localhost:8080/"
        },
        "id": "QR6KvZyg8LWW",
        "outputId": "301cd629-12a8-46bc-c73f-a66504f706e0"
      },
      "source": [
        "\n",
        "x_input=test_data[127:].reshape(1,-1)\n",
        "x_input.shape"
      ],
      "id": "QR6KvZyg8LWW",
      "execution_count": 34,
      "outputs": [
        {
          "output_type": "execute_result",
          "data": {
            "text/plain": [
              "(1, 100)"
            ]
          },
          "metadata": {},
          "execution_count": 34
        }
      ]
    },
    {
      "cell_type": "code",
      "metadata": {
        "id": "TchJWCin8tq9"
      },
      "source": [
        "\n",
        "temp_input=list(x_input)\n",
        "temp_input=temp_input[0].tolist()"
      ],
      "id": "TchJWCin8tq9",
      "execution_count": 35,
      "outputs": []
    },
    {
      "cell_type": "code",
      "metadata": {
        "colab": {
          "base_uri": "https://localhost:8080/"
        },
        "id": "YVLP2jYp89_Y",
        "outputId": "c7255e7d-d229-49bb-8865-a9e335a15833"
      },
      "source": [
        "from numpy import array\n",
        "\n",
        "lst_output=[]\n",
        "n_steps=100\n",
        "i=0\n",
        "while(i<30):\n",
        "    \n",
        "    if(len(temp_input)>100):\n",
        "        #print(temp_input)\n",
        "        x_input=np.array(temp_input[1:])\n",
        "        print(\"{} day input {}\".format(i,x_input))\n",
        "        x_input=x_input.reshape(1,-1)\n",
        "        x_input = x_input.reshape((1, n_steps, 1))\n",
        "        #print(x_input)\n",
        "        yhat = model.predict(x_input, verbose=0)\n",
        "        print(\"{} day output {}\".format(i,yhat))\n",
        "        temp_input.extend(yhat[0].tolist())\n",
        "        temp_input=temp_input[1:]\n",
        "        #print(temp_input)\n",
        "        lst_output.extend(yhat.tolist())\n",
        "        i=i+1\n",
        "    else:\n",
        "        x_input = x_input.reshape((1, n_steps,1))\n",
        "        yhat = model.predict(x_input, verbose=0)\n",
        "        print(yhat[0])\n",
        "        temp_input.extend(yhat[0].tolist())\n",
        "        print(len(temp_input))\n",
        "        lst_output.extend(yhat.tolist())\n",
        "        i=i+1\n",
        "    \n",
        "\n",
        "print(lst_output)"
      ],
      "id": "YVLP2jYp89_Y",
      "execution_count": 37,
      "outputs": [
        {
          "output_type": "stream",
          "name": "stdout",
          "text": [
            "[0.80609894]\n",
            "101\n",
            "1 day input [0.49160949 0.49996707 0.49347724 0.47676936 0.49249802 0.48775721\n",
            " 0.50005236 0.48152698 0.47377367 0.47582931 0.45803383 0.45189723\n",
            " 0.45380265 0.45830855 0.44158321 0.42431962 0.46367107 0.46712918\n",
            " 0.4887999  0.50094516 0.51901613 0.55296893 0.58832365 0.5983858\n",
            " 0.59859963 0.63664889 0.62623844 0.59802683 0.5848214  0.56690038\n",
            " 0.59414198 0.61331163 0.64657417 0.67628921 0.66334459 0.70720531\n",
            " 0.69387308 0.6940201  0.67411074 0.73160054 0.71970334 0.71885012\n",
            " 0.70103921 0.6786735  0.68048152 0.71322205 0.75801067 0.75060141\n",
            " 0.75771129 0.76154669 0.73011072 0.75154613 0.71705992 0.75321834\n",
            " 0.75054863 0.7493088  0.71898646 0.72089485 0.74960257 0.757815\n",
            " 0.76973403 0.76835445 0.7992566  0.81429308 0.71482031 0.70252396\n",
            " 0.70764984 0.68189479 0.68731991 0.70204353 0.68324727 0.71962726\n",
            " 0.73814436 0.73143036 0.72261751 0.73988725 0.72249278 0.64704059\n",
            " 0.61030683 0.65952434 0.68208592 0.64697139 0.64486733 0.65327195\n",
            " 0.63665203 0.61613037 0.62518207 0.66322119 0.73712944 0.73020248\n",
            " 0.73854765 0.75414491 0.79518029 0.86089806 0.83432376 0.83708911\n",
            " 0.85417999 0.85082042 0.87969559 0.80609894]\n",
            "1 day output [[0.81173587]]\n",
            "2 day input [0.49996707 0.49347724 0.47676936 0.49249802 0.48775721 0.50005236\n",
            " 0.48152698 0.47377367 0.47582931 0.45803383 0.45189723 0.45380265\n",
            " 0.45830855 0.44158321 0.42431962 0.46367107 0.46712918 0.4887999\n",
            " 0.50094516 0.51901613 0.55296893 0.58832365 0.5983858  0.59859963\n",
            " 0.63664889 0.62623844 0.59802683 0.5848214  0.56690038 0.59414198\n",
            " 0.61331163 0.64657417 0.67628921 0.66334459 0.70720531 0.69387308\n",
            " 0.6940201  0.67411074 0.73160054 0.71970334 0.71885012 0.70103921\n",
            " 0.6786735  0.68048152 0.71322205 0.75801067 0.75060141 0.75771129\n",
            " 0.76154669 0.73011072 0.75154613 0.71705992 0.75321834 0.75054863\n",
            " 0.7493088  0.71898646 0.72089485 0.74960257 0.757815   0.76973403\n",
            " 0.76835445 0.7992566  0.81429308 0.71482031 0.70252396 0.70764984\n",
            " 0.68189479 0.68731991 0.70204353 0.68324727 0.71962726 0.73814436\n",
            " 0.73143036 0.72261751 0.73988725 0.72249278 0.64704059 0.61030683\n",
            " 0.65952434 0.68208592 0.64697139 0.64486733 0.65327195 0.63665203\n",
            " 0.61613037 0.62518207 0.66322119 0.73712944 0.73020248 0.73854765\n",
            " 0.75414491 0.79518029 0.86089806 0.83432376 0.83708911 0.85417999\n",
            " 0.85082042 0.87969559 0.80609894 0.81173587]\n",
            "2 day output [[0.81177014]]\n",
            "3 day input [0.49347724 0.47676936 0.49249802 0.48775721 0.50005236 0.48152698\n",
            " 0.47377367 0.47582931 0.45803383 0.45189723 0.45380265 0.45830855\n",
            " 0.44158321 0.42431962 0.46367107 0.46712918 0.4887999  0.50094516\n",
            " 0.51901613 0.55296893 0.58832365 0.5983858  0.59859963 0.63664889\n",
            " 0.62623844 0.59802683 0.5848214  0.56690038 0.59414198 0.61331163\n",
            " 0.64657417 0.67628921 0.66334459 0.70720531 0.69387308 0.6940201\n",
            " 0.67411074 0.73160054 0.71970334 0.71885012 0.70103921 0.6786735\n",
            " 0.68048152 0.71322205 0.75801067 0.75060141 0.75771129 0.76154669\n",
            " 0.73011072 0.75154613 0.71705992 0.75321834 0.75054863 0.7493088\n",
            " 0.71898646 0.72089485 0.74960257 0.757815   0.76973403 0.76835445\n",
            " 0.7992566  0.81429308 0.71482031 0.70252396 0.70764984 0.68189479\n",
            " 0.68731991 0.70204353 0.68324727 0.71962726 0.73814436 0.73143036\n",
            " 0.72261751 0.73988725 0.72249278 0.64704059 0.61030683 0.65952434\n",
            " 0.68208592 0.64697139 0.64486733 0.65327195 0.63665203 0.61613037\n",
            " 0.62518207 0.66322119 0.73712944 0.73020248 0.73854765 0.75414491\n",
            " 0.79518029 0.86089806 0.83432376 0.83708911 0.85417999 0.85082042\n",
            " 0.87969559 0.80609894 0.81173587 0.81177014]\n",
            "3 day output [[0.8066957]]\n",
            "4 day input [0.47676936 0.49249802 0.48775721 0.50005236 0.48152698 0.47377367\n",
            " 0.47582931 0.45803383 0.45189723 0.45380265 0.45830855 0.44158321\n",
            " 0.42431962 0.46367107 0.46712918 0.4887999  0.50094516 0.51901613\n",
            " 0.55296893 0.58832365 0.5983858  0.59859963 0.63664889 0.62623844\n",
            " 0.59802683 0.5848214  0.56690038 0.59414198 0.61331163 0.64657417\n",
            " 0.67628921 0.66334459 0.70720531 0.69387308 0.6940201  0.67411074\n",
            " 0.73160054 0.71970334 0.71885012 0.70103921 0.6786735  0.68048152\n",
            " 0.71322205 0.75801067 0.75060141 0.75771129 0.76154669 0.73011072\n",
            " 0.75154613 0.71705992 0.75321834 0.75054863 0.7493088  0.71898646\n",
            " 0.72089485 0.74960257 0.757815   0.76973403 0.76835445 0.7992566\n",
            " 0.81429308 0.71482031 0.70252396 0.70764984 0.68189479 0.68731991\n",
            " 0.70204353 0.68324727 0.71962726 0.73814436 0.73143036 0.72261751\n",
            " 0.73988725 0.72249278 0.64704059 0.61030683 0.65952434 0.68208592\n",
            " 0.64697139 0.64486733 0.65327195 0.63665203 0.61613037 0.62518207\n",
            " 0.66322119 0.73712944 0.73020248 0.73854765 0.75414491 0.79518029\n",
            " 0.86089806 0.83432376 0.83708911 0.85417999 0.85082042 0.87969559\n",
            " 0.80609894 0.81173587 0.81177014 0.8066957 ]\n",
            "4 day output [[0.79734915]]\n",
            "5 day input [0.49249802 0.48775721 0.50005236 0.48152698 0.47377367 0.47582931\n",
            " 0.45803383 0.45189723 0.45380265 0.45830855 0.44158321 0.42431962\n",
            " 0.46367107 0.46712918 0.4887999  0.50094516 0.51901613 0.55296893\n",
            " 0.58832365 0.5983858  0.59859963 0.63664889 0.62623844 0.59802683\n",
            " 0.5848214  0.56690038 0.59414198 0.61331163 0.64657417 0.67628921\n",
            " 0.66334459 0.70720531 0.69387308 0.6940201  0.67411074 0.73160054\n",
            " 0.71970334 0.71885012 0.70103921 0.6786735  0.68048152 0.71322205\n",
            " 0.75801067 0.75060141 0.75771129 0.76154669 0.73011072 0.75154613\n",
            " 0.71705992 0.75321834 0.75054863 0.7493088  0.71898646 0.72089485\n",
            " 0.74960257 0.757815   0.76973403 0.76835445 0.7992566  0.81429308\n",
            " 0.71482031 0.70252396 0.70764984 0.68189479 0.68731991 0.70204353\n",
            " 0.68324727 0.71962726 0.73814436 0.73143036 0.72261751 0.73988725\n",
            " 0.72249278 0.64704059 0.61030683 0.65952434 0.68208592 0.64697139\n",
            " 0.64486733 0.65327195 0.63665203 0.61613037 0.62518207 0.66322119\n",
            " 0.73712944 0.73020248 0.73854765 0.75414491 0.79518029 0.86089806\n",
            " 0.83432376 0.83708911 0.85417999 0.85082042 0.87969559 0.80609894\n",
            " 0.81173587 0.81177014 0.8066957  0.79734915]\n",
            "5 day output [[0.784687]]\n",
            "6 day input [0.48775721 0.50005236 0.48152698 0.47377367 0.47582931 0.45803383\n",
            " 0.45189723 0.45380265 0.45830855 0.44158321 0.42431962 0.46367107\n",
            " 0.46712918 0.4887999  0.50094516 0.51901613 0.55296893 0.58832365\n",
            " 0.5983858  0.59859963 0.63664889 0.62623844 0.59802683 0.5848214\n",
            " 0.56690038 0.59414198 0.61331163 0.64657417 0.67628921 0.66334459\n",
            " 0.70720531 0.69387308 0.6940201  0.67411074 0.73160054 0.71970334\n",
            " 0.71885012 0.70103921 0.6786735  0.68048152 0.71322205 0.75801067\n",
            " 0.75060141 0.75771129 0.76154669 0.73011072 0.75154613 0.71705992\n",
            " 0.75321834 0.75054863 0.7493088  0.71898646 0.72089485 0.74960257\n",
            " 0.757815   0.76973403 0.76835445 0.7992566  0.81429308 0.71482031\n",
            " 0.70252396 0.70764984 0.68189479 0.68731991 0.70204353 0.68324727\n",
            " 0.71962726 0.73814436 0.73143036 0.72261751 0.73988725 0.72249278\n",
            " 0.64704059 0.61030683 0.65952434 0.68208592 0.64697139 0.64486733\n",
            " 0.65327195 0.63665203 0.61613037 0.62518207 0.66322119 0.73712944\n",
            " 0.73020248 0.73854765 0.75414491 0.79518029 0.86089806 0.83432376\n",
            " 0.83708911 0.85417999 0.85082042 0.87969559 0.80609894 0.81173587\n",
            " 0.81177014 0.8066957  0.79734915 0.78468698]\n",
            "6 day output [[0.76966244]]\n",
            "7 day input [0.50005236 0.48152698 0.47377367 0.47582931 0.45803383 0.45189723\n",
            " 0.45380265 0.45830855 0.44158321 0.42431962 0.46367107 0.46712918\n",
            " 0.4887999  0.50094516 0.51901613 0.55296893 0.58832365 0.5983858\n",
            " 0.59859963 0.63664889 0.62623844 0.59802683 0.5848214  0.56690038\n",
            " 0.59414198 0.61331163 0.64657417 0.67628921 0.66334459 0.70720531\n",
            " 0.69387308 0.6940201  0.67411074 0.73160054 0.71970334 0.71885012\n",
            " 0.70103921 0.6786735  0.68048152 0.71322205 0.75801067 0.75060141\n",
            " 0.75771129 0.76154669 0.73011072 0.75154613 0.71705992 0.75321834\n",
            " 0.75054863 0.7493088  0.71898646 0.72089485 0.74960257 0.757815\n",
            " 0.76973403 0.76835445 0.7992566  0.81429308 0.71482031 0.70252396\n",
            " 0.70764984 0.68189479 0.68731991 0.70204353 0.68324727 0.71962726\n",
            " 0.73814436 0.73143036 0.72261751 0.73988725 0.72249278 0.64704059\n",
            " 0.61030683 0.65952434 0.68208592 0.64697139 0.64486733 0.65327195\n",
            " 0.63665203 0.61613037 0.62518207 0.66322119 0.73712944 0.73020248\n",
            " 0.73854765 0.75414491 0.79518029 0.86089806 0.83432376 0.83708911\n",
            " 0.85417999 0.85082042 0.87969559 0.80609894 0.81173587 0.81177014\n",
            " 0.8066957  0.79734915 0.78468698 0.76966244]\n",
            "7 day output [[0.7531698]]\n",
            "8 day input [0.48152698 0.47377367 0.47582931 0.45803383 0.45189723 0.45380265\n",
            " 0.45830855 0.44158321 0.42431962 0.46367107 0.46712918 0.4887999\n",
            " 0.50094516 0.51901613 0.55296893 0.58832365 0.5983858  0.59859963\n",
            " 0.63664889 0.62623844 0.59802683 0.5848214  0.56690038 0.59414198\n",
            " 0.61331163 0.64657417 0.67628921 0.66334459 0.70720531 0.69387308\n",
            " 0.6940201  0.67411074 0.73160054 0.71970334 0.71885012 0.70103921\n",
            " 0.6786735  0.68048152 0.71322205 0.75801067 0.75060141 0.75771129\n",
            " 0.76154669 0.73011072 0.75154613 0.71705992 0.75321834 0.75054863\n",
            " 0.7493088  0.71898646 0.72089485 0.74960257 0.757815   0.76973403\n",
            " 0.76835445 0.7992566  0.81429308 0.71482031 0.70252396 0.70764984\n",
            " 0.68189479 0.68731991 0.70204353 0.68324727 0.71962726 0.73814436\n",
            " 0.73143036 0.72261751 0.73988725 0.72249278 0.64704059 0.61030683\n",
            " 0.65952434 0.68208592 0.64697139 0.64486733 0.65327195 0.63665203\n",
            " 0.61613037 0.62518207 0.66322119 0.73712944 0.73020248 0.73854765\n",
            " 0.75414491 0.79518029 0.86089806 0.83432376 0.83708911 0.85417999\n",
            " 0.85082042 0.87969559 0.80609894 0.81173587 0.81177014 0.8066957\n",
            " 0.79734915 0.78468698 0.76966244 0.75316978]\n",
            "8 day output [[0.7359992]]\n",
            "9 day input [0.47377367 0.47582931 0.45803383 0.45189723 0.45380265 0.45830855\n",
            " 0.44158321 0.42431962 0.46367107 0.46712918 0.4887999  0.50094516\n",
            " 0.51901613 0.55296893 0.58832365 0.5983858  0.59859963 0.63664889\n",
            " 0.62623844 0.59802683 0.5848214  0.56690038 0.59414198 0.61331163\n",
            " 0.64657417 0.67628921 0.66334459 0.70720531 0.69387308 0.6940201\n",
            " 0.67411074 0.73160054 0.71970334 0.71885012 0.70103921 0.6786735\n",
            " 0.68048152 0.71322205 0.75801067 0.75060141 0.75771129 0.76154669\n",
            " 0.73011072 0.75154613 0.71705992 0.75321834 0.75054863 0.7493088\n",
            " 0.71898646 0.72089485 0.74960257 0.757815   0.76973403 0.76835445\n",
            " 0.7992566  0.81429308 0.71482031 0.70252396 0.70764984 0.68189479\n",
            " 0.68731991 0.70204353 0.68324727 0.71962726 0.73814436 0.73143036\n",
            " 0.72261751 0.73988725 0.72249278 0.64704059 0.61030683 0.65952434\n",
            " 0.68208592 0.64697139 0.64486733 0.65327195 0.63665203 0.61613037\n",
            " 0.62518207 0.66322119 0.73712944 0.73020248 0.73854765 0.75414491\n",
            " 0.79518029 0.86089806 0.83432376 0.83708911 0.85417999 0.85082042\n",
            " 0.87969559 0.80609894 0.81173587 0.81177014 0.8066957  0.79734915\n",
            " 0.78468698 0.76966244 0.75316978 0.73599923]\n",
            "9 day output [[0.7188287]]\n",
            "10 day input [0.47582931 0.45803383 0.45189723 0.45380265 0.45830855 0.44158321\n",
            " 0.42431962 0.46367107 0.46712918 0.4887999  0.50094516 0.51901613\n",
            " 0.55296893 0.58832365 0.5983858  0.59859963 0.63664889 0.62623844\n",
            " 0.59802683 0.5848214  0.56690038 0.59414198 0.61331163 0.64657417\n",
            " 0.67628921 0.66334459 0.70720531 0.69387308 0.6940201  0.67411074\n",
            " 0.73160054 0.71970334 0.71885012 0.70103921 0.6786735  0.68048152\n",
            " 0.71322205 0.75801067 0.75060141 0.75771129 0.76154669 0.73011072\n",
            " 0.75154613 0.71705992 0.75321834 0.75054863 0.7493088  0.71898646\n",
            " 0.72089485 0.74960257 0.757815   0.76973403 0.76835445 0.7992566\n",
            " 0.81429308 0.71482031 0.70252396 0.70764984 0.68189479 0.68731991\n",
            " 0.70204353 0.68324727 0.71962726 0.73814436 0.73143036 0.72261751\n",
            " 0.73988725 0.72249278 0.64704059 0.61030683 0.65952434 0.68208592\n",
            " 0.64697139 0.64486733 0.65327195 0.63665203 0.61613037 0.62518207\n",
            " 0.66322119 0.73712944 0.73020248 0.73854765 0.75414491 0.79518029\n",
            " 0.86089806 0.83432376 0.83708911 0.85417999 0.85082042 0.87969559\n",
            " 0.80609894 0.81173587 0.81177014 0.8066957  0.79734915 0.78468698\n",
            " 0.76966244 0.75316978 0.73599923 0.71882868]\n",
            "10 day output [[0.7022053]]\n",
            "11 day input [0.45803383 0.45189723 0.45380265 0.45830855 0.44158321 0.42431962\n",
            " 0.46367107 0.46712918 0.4887999  0.50094516 0.51901613 0.55296893\n",
            " 0.58832365 0.5983858  0.59859963 0.63664889 0.62623844 0.59802683\n",
            " 0.5848214  0.56690038 0.59414198 0.61331163 0.64657417 0.67628921\n",
            " 0.66334459 0.70720531 0.69387308 0.6940201  0.67411074 0.73160054\n",
            " 0.71970334 0.71885012 0.70103921 0.6786735  0.68048152 0.71322205\n",
            " 0.75801067 0.75060141 0.75771129 0.76154669 0.73011072 0.75154613\n",
            " 0.71705992 0.75321834 0.75054863 0.7493088  0.71898646 0.72089485\n",
            " 0.74960257 0.757815   0.76973403 0.76835445 0.7992566  0.81429308\n",
            " 0.71482031 0.70252396 0.70764984 0.68189479 0.68731991 0.70204353\n",
            " 0.68324727 0.71962726 0.73814436 0.73143036 0.72261751 0.73988725\n",
            " 0.72249278 0.64704059 0.61030683 0.65952434 0.68208592 0.64697139\n",
            " 0.64486733 0.65327195 0.63665203 0.61613037 0.62518207 0.66322119\n",
            " 0.73712944 0.73020248 0.73854765 0.75414491 0.79518029 0.86089806\n",
            " 0.83432376 0.83708911 0.85417999 0.85082042 0.87969559 0.80609894\n",
            " 0.81173587 0.81177014 0.8066957  0.79734915 0.78468698 0.76966244\n",
            " 0.75316978 0.73599923 0.71882868 0.7022053 ]\n",
            "11 day output [[0.6865523]]\n",
            "12 day input [0.45189723 0.45380265 0.45830855 0.44158321 0.42431962 0.46367107\n",
            " 0.46712918 0.4887999  0.50094516 0.51901613 0.55296893 0.58832365\n",
            " 0.5983858  0.59859963 0.63664889 0.62623844 0.59802683 0.5848214\n",
            " 0.56690038 0.59414198 0.61331163 0.64657417 0.67628921 0.66334459\n",
            " 0.70720531 0.69387308 0.6940201  0.67411074 0.73160054 0.71970334\n",
            " 0.71885012 0.70103921 0.6786735  0.68048152 0.71322205 0.75801067\n",
            " 0.75060141 0.75771129 0.76154669 0.73011072 0.75154613 0.71705992\n",
            " 0.75321834 0.75054863 0.7493088  0.71898646 0.72089485 0.74960257\n",
            " 0.757815   0.76973403 0.76835445 0.7992566  0.81429308 0.71482031\n",
            " 0.70252396 0.70764984 0.68189479 0.68731991 0.70204353 0.68324727\n",
            " 0.71962726 0.73814436 0.73143036 0.72261751 0.73988725 0.72249278\n",
            " 0.64704059 0.61030683 0.65952434 0.68208592 0.64697139 0.64486733\n",
            " 0.65327195 0.63665203 0.61613037 0.62518207 0.66322119 0.73712944\n",
            " 0.73020248 0.73854765 0.75414491 0.79518029 0.86089806 0.83432376\n",
            " 0.83708911 0.85417999 0.85082042 0.87969559 0.80609894 0.81173587\n",
            " 0.81177014 0.8066957  0.79734915 0.78468698 0.76966244 0.75316978\n",
            " 0.73599923 0.71882868 0.7022053  0.68655229]\n",
            "12 day output [[0.6721821]]\n",
            "13 day input [0.45380265 0.45830855 0.44158321 0.42431962 0.46367107 0.46712918\n",
            " 0.4887999  0.50094516 0.51901613 0.55296893 0.58832365 0.5983858\n",
            " 0.59859963 0.63664889 0.62623844 0.59802683 0.5848214  0.56690038\n",
            " 0.59414198 0.61331163 0.64657417 0.67628921 0.66334459 0.70720531\n",
            " 0.69387308 0.6940201  0.67411074 0.73160054 0.71970334 0.71885012\n",
            " 0.70103921 0.6786735  0.68048152 0.71322205 0.75801067 0.75060141\n",
            " 0.75771129 0.76154669 0.73011072 0.75154613 0.71705992 0.75321834\n",
            " 0.75054863 0.7493088  0.71898646 0.72089485 0.74960257 0.757815\n",
            " 0.76973403 0.76835445 0.7992566  0.81429308 0.71482031 0.70252396\n",
            " 0.70764984 0.68189479 0.68731991 0.70204353 0.68324727 0.71962726\n",
            " 0.73814436 0.73143036 0.72261751 0.73988725 0.72249278 0.64704059\n",
            " 0.61030683 0.65952434 0.68208592 0.64697139 0.64486733 0.65327195\n",
            " 0.63665203 0.61613037 0.62518207 0.66322119 0.73712944 0.73020248\n",
            " 0.73854765 0.75414491 0.79518029 0.86089806 0.83432376 0.83708911\n",
            " 0.85417999 0.85082042 0.87969559 0.80609894 0.81173587 0.81177014\n",
            " 0.8066957  0.79734915 0.78468698 0.76966244 0.75316978 0.73599923\n",
            " 0.71882868 0.7022053  0.68655229 0.67218208]\n",
            "13 day output [[0.6593028]]\n",
            "14 day input [0.45830855 0.44158321 0.42431962 0.46367107 0.46712918 0.4887999\n",
            " 0.50094516 0.51901613 0.55296893 0.58832365 0.5983858  0.59859963\n",
            " 0.63664889 0.62623844 0.59802683 0.5848214  0.56690038 0.59414198\n",
            " 0.61331163 0.64657417 0.67628921 0.66334459 0.70720531 0.69387308\n",
            " 0.6940201  0.67411074 0.73160054 0.71970334 0.71885012 0.70103921\n",
            " 0.6786735  0.68048152 0.71322205 0.75801067 0.75060141 0.75771129\n",
            " 0.76154669 0.73011072 0.75154613 0.71705992 0.75321834 0.75054863\n",
            " 0.7493088  0.71898646 0.72089485 0.74960257 0.757815   0.76973403\n",
            " 0.76835445 0.7992566  0.81429308 0.71482031 0.70252396 0.70764984\n",
            " 0.68189479 0.68731991 0.70204353 0.68324727 0.71962726 0.73814436\n",
            " 0.73143036 0.72261751 0.73988725 0.72249278 0.64704059 0.61030683\n",
            " 0.65952434 0.68208592 0.64697139 0.64486733 0.65327195 0.63665203\n",
            " 0.61613037 0.62518207 0.66322119 0.73712944 0.73020248 0.73854765\n",
            " 0.75414491 0.79518029 0.86089806 0.83432376 0.83708911 0.85417999\n",
            " 0.85082042 0.87969559 0.80609894 0.81173587 0.81177014 0.8066957\n",
            " 0.79734915 0.78468698 0.76966244 0.75316978 0.73599923 0.71882868\n",
            " 0.7022053  0.68655229 0.67218208 0.65930277]\n",
            "14 day output [[0.64804435]]\n",
            "15 day input [0.44158321 0.42431962 0.46367107 0.46712918 0.4887999  0.50094516\n",
            " 0.51901613 0.55296893 0.58832365 0.5983858  0.59859963 0.63664889\n",
            " 0.62623844 0.59802683 0.5848214  0.56690038 0.59414198 0.61331163\n",
            " 0.64657417 0.67628921 0.66334459 0.70720531 0.69387308 0.6940201\n",
            " 0.67411074 0.73160054 0.71970334 0.71885012 0.70103921 0.6786735\n",
            " 0.68048152 0.71322205 0.75801067 0.75060141 0.75771129 0.76154669\n",
            " 0.73011072 0.75154613 0.71705992 0.75321834 0.75054863 0.7493088\n",
            " 0.71898646 0.72089485 0.74960257 0.757815   0.76973403 0.76835445\n",
            " 0.7992566  0.81429308 0.71482031 0.70252396 0.70764984 0.68189479\n",
            " 0.68731991 0.70204353 0.68324727 0.71962726 0.73814436 0.73143036\n",
            " 0.72261751 0.73988725 0.72249278 0.64704059 0.61030683 0.65952434\n",
            " 0.68208592 0.64697139 0.64486733 0.65327195 0.63665203 0.61613037\n",
            " 0.62518207 0.66322119 0.73712944 0.73020248 0.73854765 0.75414491\n",
            " 0.79518029 0.86089806 0.83432376 0.83708911 0.85417999 0.85082042\n",
            " 0.87969559 0.80609894 0.81173587 0.81177014 0.8066957  0.79734915\n",
            " 0.78468698 0.76966244 0.75316978 0.73599923 0.71882868 0.7022053\n",
            " 0.68655229 0.67218208 0.65930277 0.64804435]\n",
            "15 day output [[0.63847715]]\n",
            "16 day input [0.42431962 0.46367107 0.46712918 0.4887999  0.50094516 0.51901613\n",
            " 0.55296893 0.58832365 0.5983858  0.59859963 0.63664889 0.62623844\n",
            " 0.59802683 0.5848214  0.56690038 0.59414198 0.61331163 0.64657417\n",
            " 0.67628921 0.66334459 0.70720531 0.69387308 0.6940201  0.67411074\n",
            " 0.73160054 0.71970334 0.71885012 0.70103921 0.6786735  0.68048152\n",
            " 0.71322205 0.75801067 0.75060141 0.75771129 0.76154669 0.73011072\n",
            " 0.75154613 0.71705992 0.75321834 0.75054863 0.7493088  0.71898646\n",
            " 0.72089485 0.74960257 0.757815   0.76973403 0.76835445 0.7992566\n",
            " 0.81429308 0.71482031 0.70252396 0.70764984 0.68189479 0.68731991\n",
            " 0.70204353 0.68324727 0.71962726 0.73814436 0.73143036 0.72261751\n",
            " 0.73988725 0.72249278 0.64704059 0.61030683 0.65952434 0.68208592\n",
            " 0.64697139 0.64486733 0.65327195 0.63665203 0.61613037 0.62518207\n",
            " 0.66322119 0.73712944 0.73020248 0.73854765 0.75414491 0.79518029\n",
            " 0.86089806 0.83432376 0.83708911 0.85417999 0.85082042 0.87969559\n",
            " 0.80609894 0.81173587 0.81177014 0.8066957  0.79734915 0.78468698\n",
            " 0.76966244 0.75316978 0.73599923 0.71882868 0.7022053  0.68655229\n",
            " 0.67218208 0.65930277 0.64804435 0.63847715]\n",
            "16 day output [[0.6306341]]\n",
            "17 day input [0.46367107 0.46712918 0.4887999  0.50094516 0.51901613 0.55296893\n",
            " 0.58832365 0.5983858  0.59859963 0.63664889 0.62623844 0.59802683\n",
            " 0.5848214  0.56690038 0.59414198 0.61331163 0.64657417 0.67628921\n",
            " 0.66334459 0.70720531 0.69387308 0.6940201  0.67411074 0.73160054\n",
            " 0.71970334 0.71885012 0.70103921 0.6786735  0.68048152 0.71322205\n",
            " 0.75801067 0.75060141 0.75771129 0.76154669 0.73011072 0.75154613\n",
            " 0.71705992 0.75321834 0.75054863 0.7493088  0.71898646 0.72089485\n",
            " 0.74960257 0.757815   0.76973403 0.76835445 0.7992566  0.81429308\n",
            " 0.71482031 0.70252396 0.70764984 0.68189479 0.68731991 0.70204353\n",
            " 0.68324727 0.71962726 0.73814436 0.73143036 0.72261751 0.73988725\n",
            " 0.72249278 0.64704059 0.61030683 0.65952434 0.68208592 0.64697139\n",
            " 0.64486733 0.65327195 0.63665203 0.61613037 0.62518207 0.66322119\n",
            " 0.73712944 0.73020248 0.73854765 0.75414491 0.79518029 0.86089806\n",
            " 0.83432376 0.83708911 0.85417999 0.85082042 0.87969559 0.80609894\n",
            " 0.81173587 0.81177014 0.8066957  0.79734915 0.78468698 0.76966244\n",
            " 0.75316978 0.73599923 0.71882868 0.7022053  0.68655229 0.67218208\n",
            " 0.65930277 0.64804435 0.63847715 0.63063413]\n",
            "17 day output [[0.6245192]]\n",
            "18 day input [0.46712918 0.4887999  0.50094516 0.51901613 0.55296893 0.58832365\n",
            " 0.5983858  0.59859963 0.63664889 0.62623844 0.59802683 0.5848214\n",
            " 0.56690038 0.59414198 0.61331163 0.64657417 0.67628921 0.66334459\n",
            " 0.70720531 0.69387308 0.6940201  0.67411074 0.73160054 0.71970334\n",
            " 0.71885012 0.70103921 0.6786735  0.68048152 0.71322205 0.75801067\n",
            " 0.75060141 0.75771129 0.76154669 0.73011072 0.75154613 0.71705992\n",
            " 0.75321834 0.75054863 0.7493088  0.71898646 0.72089485 0.74960257\n",
            " 0.757815   0.76973403 0.76835445 0.7992566  0.81429308 0.71482031\n",
            " 0.70252396 0.70764984 0.68189479 0.68731991 0.70204353 0.68324727\n",
            " 0.71962726 0.73814436 0.73143036 0.72261751 0.73988725 0.72249278\n",
            " 0.64704059 0.61030683 0.65952434 0.68208592 0.64697139 0.64486733\n",
            " 0.65327195 0.63665203 0.61613037 0.62518207 0.66322119 0.73712944\n",
            " 0.73020248 0.73854765 0.75414491 0.79518029 0.86089806 0.83432376\n",
            " 0.83708911 0.85417999 0.85082042 0.87969559 0.80609894 0.81173587\n",
            " 0.81177014 0.8066957  0.79734915 0.78468698 0.76966244 0.75316978\n",
            " 0.73599923 0.71882868 0.7022053  0.68655229 0.67218208 0.65930277\n",
            " 0.64804435 0.63847715 0.63063413 0.62451923]\n",
            "18 day output [[0.6201126]]\n",
            "19 day input [0.4887999  0.50094516 0.51901613 0.55296893 0.58832365 0.5983858\n",
            " 0.59859963 0.63664889 0.62623844 0.59802683 0.5848214  0.56690038\n",
            " 0.59414198 0.61331163 0.64657417 0.67628921 0.66334459 0.70720531\n",
            " 0.69387308 0.6940201  0.67411074 0.73160054 0.71970334 0.71885012\n",
            " 0.70103921 0.6786735  0.68048152 0.71322205 0.75801067 0.75060141\n",
            " 0.75771129 0.76154669 0.73011072 0.75154613 0.71705992 0.75321834\n",
            " 0.75054863 0.7493088  0.71898646 0.72089485 0.74960257 0.757815\n",
            " 0.76973403 0.76835445 0.7992566  0.81429308 0.71482031 0.70252396\n",
            " 0.70764984 0.68189479 0.68731991 0.70204353 0.68324727 0.71962726\n",
            " 0.73814436 0.73143036 0.72261751 0.73988725 0.72249278 0.64704059\n",
            " 0.61030683 0.65952434 0.68208592 0.64697139 0.64486733 0.65327195\n",
            " 0.63665203 0.61613037 0.62518207 0.66322119 0.73712944 0.73020248\n",
            " 0.73854765 0.75414491 0.79518029 0.86089806 0.83432376 0.83708911\n",
            " 0.85417999 0.85082042 0.87969559 0.80609894 0.81173587 0.81177014\n",
            " 0.8066957  0.79734915 0.78468698 0.76966244 0.75316978 0.73599923\n",
            " 0.71882868 0.7022053  0.68655229 0.67218208 0.65930277 0.64804435\n",
            " 0.63847715 0.63063413 0.62451923 0.6201126 ]\n",
            "19 day output [[0.61739415]]\n",
            "20 day input [0.50094516 0.51901613 0.55296893 0.58832365 0.5983858  0.59859963\n",
            " 0.63664889 0.62623844 0.59802683 0.5848214  0.56690038 0.59414198\n",
            " 0.61331163 0.64657417 0.67628921 0.66334459 0.70720531 0.69387308\n",
            " 0.6940201  0.67411074 0.73160054 0.71970334 0.71885012 0.70103921\n",
            " 0.6786735  0.68048152 0.71322205 0.75801067 0.75060141 0.75771129\n",
            " 0.76154669 0.73011072 0.75154613 0.71705992 0.75321834 0.75054863\n",
            " 0.7493088  0.71898646 0.72089485 0.74960257 0.757815   0.76973403\n",
            " 0.76835445 0.7992566  0.81429308 0.71482031 0.70252396 0.70764984\n",
            " 0.68189479 0.68731991 0.70204353 0.68324727 0.71962726 0.73814436\n",
            " 0.73143036 0.72261751 0.73988725 0.72249278 0.64704059 0.61030683\n",
            " 0.65952434 0.68208592 0.64697139 0.64486733 0.65327195 0.63665203\n",
            " 0.61613037 0.62518207 0.66322119 0.73712944 0.73020248 0.73854765\n",
            " 0.75414491 0.79518029 0.86089806 0.83432376 0.83708911 0.85417999\n",
            " 0.85082042 0.87969559 0.80609894 0.81173587 0.81177014 0.8066957\n",
            " 0.79734915 0.78468698 0.76966244 0.75316978 0.73599923 0.71882868\n",
            " 0.7022053  0.68655229 0.67218208 0.65930277 0.64804435 0.63847715\n",
            " 0.63063413 0.62451923 0.6201126  0.61739415]\n",
            "20 day output [[0.616327]]\n",
            "21 day input [0.51901613 0.55296893 0.58832365 0.5983858  0.59859963 0.63664889\n",
            " 0.62623844 0.59802683 0.5848214  0.56690038 0.59414198 0.61331163\n",
            " 0.64657417 0.67628921 0.66334459 0.70720531 0.69387308 0.6940201\n",
            " 0.67411074 0.73160054 0.71970334 0.71885012 0.70103921 0.6786735\n",
            " 0.68048152 0.71322205 0.75801067 0.75060141 0.75771129 0.76154669\n",
            " 0.73011072 0.75154613 0.71705992 0.75321834 0.75054863 0.7493088\n",
            " 0.71898646 0.72089485 0.74960257 0.757815   0.76973403 0.76835445\n",
            " 0.7992566  0.81429308 0.71482031 0.70252396 0.70764984 0.68189479\n",
            " 0.68731991 0.70204353 0.68324727 0.71962726 0.73814436 0.73143036\n",
            " 0.72261751 0.73988725 0.72249278 0.64704059 0.61030683 0.65952434\n",
            " 0.68208592 0.64697139 0.64486733 0.65327195 0.63665203 0.61613037\n",
            " 0.62518207 0.66322119 0.73712944 0.73020248 0.73854765 0.75414491\n",
            " 0.79518029 0.86089806 0.83432376 0.83708911 0.85417999 0.85082042\n",
            " 0.87969559 0.80609894 0.81173587 0.81177014 0.8066957  0.79734915\n",
            " 0.78468698 0.76966244 0.75316978 0.73599923 0.71882868 0.7022053\n",
            " 0.68655229 0.67218208 0.65930277 0.64804435 0.63847715 0.63063413\n",
            " 0.62451923 0.6201126  0.61739415 0.61632699]\n",
            "21 day output [[0.6168656]]\n",
            "22 day input [0.55296893 0.58832365 0.5983858  0.59859963 0.63664889 0.62623844\n",
            " 0.59802683 0.5848214  0.56690038 0.59414198 0.61331163 0.64657417\n",
            " 0.67628921 0.66334459 0.70720531 0.69387308 0.6940201  0.67411074\n",
            " 0.73160054 0.71970334 0.71885012 0.70103921 0.6786735  0.68048152\n",
            " 0.71322205 0.75801067 0.75060141 0.75771129 0.76154669 0.73011072\n",
            " 0.75154613 0.71705992 0.75321834 0.75054863 0.7493088  0.71898646\n",
            " 0.72089485 0.74960257 0.757815   0.76973403 0.76835445 0.7992566\n",
            " 0.81429308 0.71482031 0.70252396 0.70764984 0.68189479 0.68731991\n",
            " 0.70204353 0.68324727 0.71962726 0.73814436 0.73143036 0.72261751\n",
            " 0.73988725 0.72249278 0.64704059 0.61030683 0.65952434 0.68208592\n",
            " 0.64697139 0.64486733 0.65327195 0.63665203 0.61613037 0.62518207\n",
            " 0.66322119 0.73712944 0.73020248 0.73854765 0.75414491 0.79518029\n",
            " 0.86089806 0.83432376 0.83708911 0.85417999 0.85082042 0.87969559\n",
            " 0.80609894 0.81173587 0.81177014 0.8066957  0.79734915 0.78468698\n",
            " 0.76966244 0.75316978 0.73599923 0.71882868 0.7022053  0.68655229\n",
            " 0.67218208 0.65930277 0.64804435 0.63847715 0.63063413 0.62451923\n",
            " 0.6201126  0.61739415 0.61632699 0.61686558]\n",
            "22 day output [[0.61894995]]\n",
            "23 day input [0.58832365 0.5983858  0.59859963 0.63664889 0.62623844 0.59802683\n",
            " 0.5848214  0.56690038 0.59414198 0.61331163 0.64657417 0.67628921\n",
            " 0.66334459 0.70720531 0.69387308 0.6940201  0.67411074 0.73160054\n",
            " 0.71970334 0.71885012 0.70103921 0.6786735  0.68048152 0.71322205\n",
            " 0.75801067 0.75060141 0.75771129 0.76154669 0.73011072 0.75154613\n",
            " 0.71705992 0.75321834 0.75054863 0.7493088  0.71898646 0.72089485\n",
            " 0.74960257 0.757815   0.76973403 0.76835445 0.7992566  0.81429308\n",
            " 0.71482031 0.70252396 0.70764984 0.68189479 0.68731991 0.70204353\n",
            " 0.68324727 0.71962726 0.73814436 0.73143036 0.72261751 0.73988725\n",
            " 0.72249278 0.64704059 0.61030683 0.65952434 0.68208592 0.64697139\n",
            " 0.64486733 0.65327195 0.63665203 0.61613037 0.62518207 0.66322119\n",
            " 0.73712944 0.73020248 0.73854765 0.75414491 0.79518029 0.86089806\n",
            " 0.83432376 0.83708911 0.85417999 0.85082042 0.87969559 0.80609894\n",
            " 0.81173587 0.81177014 0.8066957  0.79734915 0.78468698 0.76966244\n",
            " 0.75316978 0.73599923 0.71882868 0.7022053  0.68655229 0.67218208\n",
            " 0.65930277 0.64804435 0.63847715 0.63063413 0.62451923 0.6201126\n",
            " 0.61739415 0.61632699 0.61686558 0.61894995]\n",
            "23 day output [[0.62250423]]\n",
            "24 day input [0.5983858  0.59859963 0.63664889 0.62623844 0.59802683 0.5848214\n",
            " 0.56690038 0.59414198 0.61331163 0.64657417 0.67628921 0.66334459\n",
            " 0.70720531 0.69387308 0.6940201  0.67411074 0.73160054 0.71970334\n",
            " 0.71885012 0.70103921 0.6786735  0.68048152 0.71322205 0.75801067\n",
            " 0.75060141 0.75771129 0.76154669 0.73011072 0.75154613 0.71705992\n",
            " 0.75321834 0.75054863 0.7493088  0.71898646 0.72089485 0.74960257\n",
            " 0.757815   0.76973403 0.76835445 0.7992566  0.81429308 0.71482031\n",
            " 0.70252396 0.70764984 0.68189479 0.68731991 0.70204353 0.68324727\n",
            " 0.71962726 0.73814436 0.73143036 0.72261751 0.73988725 0.72249278\n",
            " 0.64704059 0.61030683 0.65952434 0.68208592 0.64697139 0.64486733\n",
            " 0.65327195 0.63665203 0.61613037 0.62518207 0.66322119 0.73712944\n",
            " 0.73020248 0.73854765 0.75414491 0.79518029 0.86089806 0.83432376\n",
            " 0.83708911 0.85417999 0.85082042 0.87969559 0.80609894 0.81173587\n",
            " 0.81177014 0.8066957  0.79734915 0.78468698 0.76966244 0.75316978\n",
            " 0.73599923 0.71882868 0.7022053  0.68655229 0.67218208 0.65930277\n",
            " 0.64804435 0.63847715 0.63063413 0.62451923 0.6201126  0.61739415\n",
            " 0.61632699 0.61686558 0.61894995 0.62250423]\n",
            "24 day output [[0.6274391]]\n",
            "25 day input [0.59859963 0.63664889 0.62623844 0.59802683 0.5848214  0.56690038\n",
            " 0.59414198 0.61331163 0.64657417 0.67628921 0.66334459 0.70720531\n",
            " 0.69387308 0.6940201  0.67411074 0.73160054 0.71970334 0.71885012\n",
            " 0.70103921 0.6786735  0.68048152 0.71322205 0.75801067 0.75060141\n",
            " 0.75771129 0.76154669 0.73011072 0.75154613 0.71705992 0.75321834\n",
            " 0.75054863 0.7493088  0.71898646 0.72089485 0.74960257 0.757815\n",
            " 0.76973403 0.76835445 0.7992566  0.81429308 0.71482031 0.70252396\n",
            " 0.70764984 0.68189479 0.68731991 0.70204353 0.68324727 0.71962726\n",
            " 0.73814436 0.73143036 0.72261751 0.73988725 0.72249278 0.64704059\n",
            " 0.61030683 0.65952434 0.68208592 0.64697139 0.64486733 0.65327195\n",
            " 0.63665203 0.61613037 0.62518207 0.66322119 0.73712944 0.73020248\n",
            " 0.73854765 0.75414491 0.79518029 0.86089806 0.83432376 0.83708911\n",
            " 0.85417999 0.85082042 0.87969559 0.80609894 0.81173587 0.81177014\n",
            " 0.8066957  0.79734915 0.78468698 0.76966244 0.75316978 0.73599923\n",
            " 0.71882868 0.7022053  0.68655229 0.67218208 0.65930277 0.64804435\n",
            " 0.63847715 0.63063413 0.62451923 0.6201126  0.61739415 0.61632699\n",
            " 0.61686558 0.61894995 0.62250423 0.62743908]\n",
            "25 day output [[0.63365054]]\n",
            "26 day input [0.63664889 0.62623844 0.59802683 0.5848214  0.56690038 0.59414198\n",
            " 0.61331163 0.64657417 0.67628921 0.66334459 0.70720531 0.69387308\n",
            " 0.6940201  0.67411074 0.73160054 0.71970334 0.71885012 0.70103921\n",
            " 0.6786735  0.68048152 0.71322205 0.75801067 0.75060141 0.75771129\n",
            " 0.76154669 0.73011072 0.75154613 0.71705992 0.75321834 0.75054863\n",
            " 0.7493088  0.71898646 0.72089485 0.74960257 0.757815   0.76973403\n",
            " 0.76835445 0.7992566  0.81429308 0.71482031 0.70252396 0.70764984\n",
            " 0.68189479 0.68731991 0.70204353 0.68324727 0.71962726 0.73814436\n",
            " 0.73143036 0.72261751 0.73988725 0.72249278 0.64704059 0.61030683\n",
            " 0.65952434 0.68208592 0.64697139 0.64486733 0.65327195 0.63665203\n",
            " 0.61613037 0.62518207 0.66322119 0.73712944 0.73020248 0.73854765\n",
            " 0.75414491 0.79518029 0.86089806 0.83432376 0.83708911 0.85417999\n",
            " 0.85082042 0.87969559 0.80609894 0.81173587 0.81177014 0.8066957\n",
            " 0.79734915 0.78468698 0.76966244 0.75316978 0.73599923 0.71882868\n",
            " 0.7022053  0.68655229 0.67218208 0.65930277 0.64804435 0.63847715\n",
            " 0.63063413 0.62451923 0.6201126  0.61739415 0.61632699 0.61686558\n",
            " 0.61894995 0.62250423 0.62743908 0.63365054]\n",
            "26 day output [[0.64102006]]\n",
            "27 day input [0.62623844 0.59802683 0.5848214  0.56690038 0.59414198 0.61331163\n",
            " 0.64657417 0.67628921 0.66334459 0.70720531 0.69387308 0.6940201\n",
            " 0.67411074 0.73160054 0.71970334 0.71885012 0.70103921 0.6786735\n",
            " 0.68048152 0.71322205 0.75801067 0.75060141 0.75771129 0.76154669\n",
            " 0.73011072 0.75154613 0.71705992 0.75321834 0.75054863 0.7493088\n",
            " 0.71898646 0.72089485 0.74960257 0.757815   0.76973403 0.76835445\n",
            " 0.7992566  0.81429308 0.71482031 0.70252396 0.70764984 0.68189479\n",
            " 0.68731991 0.70204353 0.68324727 0.71962726 0.73814436 0.73143036\n",
            " 0.72261751 0.73988725 0.72249278 0.64704059 0.61030683 0.65952434\n",
            " 0.68208592 0.64697139 0.64486733 0.65327195 0.63665203 0.61613037\n",
            " 0.62518207 0.66322119 0.73712944 0.73020248 0.73854765 0.75414491\n",
            " 0.79518029 0.86089806 0.83432376 0.83708911 0.85417999 0.85082042\n",
            " 0.87969559 0.80609894 0.81173587 0.81177014 0.8066957  0.79734915\n",
            " 0.78468698 0.76966244 0.75316978 0.73599923 0.71882868 0.7022053\n",
            " 0.68655229 0.67218208 0.65930277 0.64804435 0.63847715 0.63063413\n",
            " 0.62451923 0.6201126  0.61739415 0.61632699 0.61686558 0.61894995\n",
            " 0.62250423 0.62743908 0.63365054 0.64102006]\n",
            "27 day output [[0.6494146]]\n",
            "28 day input [0.59802683 0.5848214  0.56690038 0.59414198 0.61331163 0.64657417\n",
            " 0.67628921 0.66334459 0.70720531 0.69387308 0.6940201  0.67411074\n",
            " 0.73160054 0.71970334 0.71885012 0.70103921 0.6786735  0.68048152\n",
            " 0.71322205 0.75801067 0.75060141 0.75771129 0.76154669 0.73011072\n",
            " 0.75154613 0.71705992 0.75321834 0.75054863 0.7493088  0.71898646\n",
            " 0.72089485 0.74960257 0.757815   0.76973403 0.76835445 0.7992566\n",
            " 0.81429308 0.71482031 0.70252396 0.70764984 0.68189479 0.68731991\n",
            " 0.70204353 0.68324727 0.71962726 0.73814436 0.73143036 0.72261751\n",
            " 0.73988725 0.72249278 0.64704059 0.61030683 0.65952434 0.68208592\n",
            " 0.64697139 0.64486733 0.65327195 0.63665203 0.61613037 0.62518207\n",
            " 0.66322119 0.73712944 0.73020248 0.73854765 0.75414491 0.79518029\n",
            " 0.86089806 0.83432376 0.83708911 0.85417999 0.85082042 0.87969559\n",
            " 0.80609894 0.81173587 0.81177014 0.8066957  0.79734915 0.78468698\n",
            " 0.76966244 0.75316978 0.73599923 0.71882868 0.7022053  0.68655229\n",
            " 0.67218208 0.65930277 0.64804435 0.63847715 0.63063413 0.62451923\n",
            " 0.6201126  0.61739415 0.61632699 0.61686558 0.61894995 0.62250423\n",
            " 0.62743908 0.63365054 0.64102006 0.6494146 ]\n",
            "28 day output [[0.65869313]]\n",
            "29 day input [0.5848214  0.56690038 0.59414198 0.61331163 0.64657417 0.67628921\n",
            " 0.66334459 0.70720531 0.69387308 0.6940201  0.67411074 0.73160054\n",
            " 0.71970334 0.71885012 0.70103921 0.6786735  0.68048152 0.71322205\n",
            " 0.75801067 0.75060141 0.75771129 0.76154669 0.73011072 0.75154613\n",
            " 0.71705992 0.75321834 0.75054863 0.7493088  0.71898646 0.72089485\n",
            " 0.74960257 0.757815   0.76973403 0.76835445 0.7992566  0.81429308\n",
            " 0.71482031 0.70252396 0.70764984 0.68189479 0.68731991 0.70204353\n",
            " 0.68324727 0.71962726 0.73814436 0.73143036 0.72261751 0.73988725\n",
            " 0.72249278 0.64704059 0.61030683 0.65952434 0.68208592 0.64697139\n",
            " 0.64486733 0.65327195 0.63665203 0.61613037 0.62518207 0.66322119\n",
            " 0.73712944 0.73020248 0.73854765 0.75414491 0.79518029 0.86089806\n",
            " 0.83432376 0.83708911 0.85417999 0.85082042 0.87969559 0.80609894\n",
            " 0.81173587 0.81177014 0.8066957  0.79734915 0.78468698 0.76966244\n",
            " 0.75316978 0.73599923 0.71882868 0.7022053  0.68655229 0.67218208\n",
            " 0.65930277 0.64804435 0.63847715 0.63063413 0.62451923 0.6201126\n",
            " 0.61739415 0.61632699 0.61686558 0.61894995 0.62250423 0.62743908\n",
            " 0.63365054 0.64102006 0.6494146  0.65869313]\n",
            "29 day output [[0.66870403]]\n",
            "[[0.8060989379882812], [0.8117358684539795], [0.8117701411247253], [0.8066956996917725], [0.7973491549491882], [0.7846869826316833], [0.7696624398231506], [0.7531697750091553], [0.7359992265701294], [0.7188286781311035], [0.7022053003311157], [0.6865522861480713], [0.6721820831298828], [0.6593027710914612], [0.6480443477630615], [0.6384771466255188], [0.6306341290473938], [0.6245192289352417], [0.6201125979423523], [0.6173941493034363], [0.6163269877433777], [0.6168655753135681], [0.6189499497413635], [0.6225042343139648], [0.6274390816688538], [0.633650541305542], [0.6410200595855713], [0.649414598941803], [0.6586931347846985], [0.6687040328979492]]\n"
          ]
        }
      ]
    },
    {
      "cell_type": "code",
      "metadata": {
        "id": "Eho35mSw9RTr"
      },
      "source": [
        "day_new=np.arange(1,101)\n",
        "day_pred=np.arange(101,131)"
      ],
      "id": "Eho35mSw9RTr",
      "execution_count": 38,
      "outputs": []
    },
    {
      "cell_type": "code",
      "metadata": {
        "colab": {
          "base_uri": "https://localhost:8080/"
        },
        "id": "wU_Ypx-99dPw",
        "outputId": "1241a2c6-1462-4c51-ab82-05b504517bde"
      },
      "source": [
        "len(close_df)"
      ],
      "id": "wU_Ypx-99dPw",
      "execution_count": 39,
      "outputs": [
        {
          "output_type": "execute_result",
          "data": {
            "text/plain": [
              "647"
            ]
          },
          "metadata": {},
          "execution_count": 39
        }
      ]
    },
    {
      "cell_type": "code",
      "metadata": {
        "colab": {
          "base_uri": "https://localhost:8080/",
          "height": 282
        },
        "id": "PgIezctk9Z4Y",
        "outputId": "d46aba1d-ddc4-42cc-e078-15c30e8d6a5c"
      },
      "source": [
        "\n",
        "plt.plot(day_new,scaler.inverse_transform(close_df[547:]))\n",
        "plt.plot(day_pred,scaler.inverse_transform(lst_output))"
      ],
      "id": "PgIezctk9Z4Y",
      "execution_count": 45,
      "outputs": [
        {
          "output_type": "execute_result",
          "data": {
            "text/plain": [
              "[<matplotlib.lines.Line2D at 0x7fce7fdbaf90>]"
            ]
          },
          "metadata": {},
          "execution_count": 45
        },
        {
          "output_type": "display_data",
          "data": {
            "image/png": "[encoded data removed]",
            "text/plain": [
              "<Figure size 432x288 with 1 Axes>"
            ]
          },
          "metadata": {
            "needs_background": "light"
          }
        }
      ]
    },
    {
      "cell_type": "code",
      "metadata": {
        "colab": {
          "base_uri": "https://localhost:8080/",
          "height": 282
        },
        "id": "pWQb6OTL9hdA",
        "outputId": "8b60c759-56f8-4b39-d723-eb05d5f44fac"
      },
      "source": [
        "df3=close_df.tolist()\n",
        "df3.extend(lst_output)\n",
        "plt.plot(df3[600:])"
      ],
      "id": "pWQb6OTL9hdA",
      "execution_count": 47,
      "outputs": [
        {
          "output_type": "execute_result",
          "data": {
            "text/plain": [
              "[<matplotlib.lines.Line2D at 0x7fce7faf76d0>]"
            ]
          },
          "metadata": {},
          "execution_count": 47
        },
        {
          "output_type": "display_data",
          "data": {
            "image/png": "[encoded data removed]",
            "text/plain": [
              "<Figure size 432x288 with 1 Axes>"
            ]
          },
          "metadata": {
            "needs_background": "light"
          }
        }
      ]
    },
    {
      "cell_type": "code",
      "metadata": {
        "id": "1v5fnBgI9yUr"
      },
      "source": [
        "df3=scaler.inverse_transform(df3).tolist()"
      ],
      "id": "1v5fnBgI9yUr",
      "execution_count": 48,
      "outputs": []
    },
    {
      "cell_type": "code",
      "metadata": {
        "colab": {
          "base_uri": "https://localhost:8080/",
          "height": 282
        },
        "id": "W6dLA2Yb93iB",
        "outputId": "748cf78f-2a7e-41d5-8158-e13ca0d6504d"
      },
      "source": [
        "plt.plot(df3)\n"
      ],
      "id": "W6dLA2Yb93iB",
      "execution_count": 49,
      "outputs": [
        {
          "output_type": "execute_result",
          "data": {
            "text/plain": [
              "[<matplotlib.lines.Line2D at 0x7fce7fae0d10>]"
            ]
          },
          "metadata": {},
          "execution_count": 49
        },
        {
          "output_type": "display_data",
          "data": {
            "image/png": "[encoded data removed]",
            "text/plain": [
              "<Figure size 432x288 with 1 Axes>"
            ]
          },
          "metadata": {
            "needs_background": "light"
          }
        }
      ]
    },
    {
      "cell_type": "code",
      "metadata": {
        "colab": {
          "base_uri": "https://localhost:8080/"
        },
        "id": "gNbh67qR-gwA",
        "outputId": "691d61a3-625b-4152-8b0e-b5beb1caffd4"
      },
      "source": [
        "df3[-1]"
      ],
      "id": "gNbh67qR-gwA",
      "execution_count": 56,
      "outputs": [
        {
          "output_type": "execute_result",
          "data": {
            "text/plain": [
              "[44111.81986594852]"
            ]
          },
          "metadata": {},
          "execution_count": 56
        }
      ]
    },
    {
      "cell_type": "code",
      "metadata": {
        "colab": {
          "base_uri": "https://localhost:8080/"
        },
        "id": "ta6Mv6sz95Rq",
        "outputId": "d032fafd-fb85-4094-eef8-8014ec72b5b3"
      },
      "source": [
        "close_df"
      ],
      "id": "ta6Mv6sz95Rq",
      "execution_count": 55,
      "outputs": [
        {
          "output_type": "execute_result",
          "data": {
            "text/plain": [
              "array([[3.79755626e-02],\n",
              "       [3.80878964e-02],\n",
              "       [3.44197892e-02],\n",
              "       [4.05601903e-02],\n",
              "       [4.16838784e-02],\n",
              "       [4.16951651e-02],\n",
              "       [4.78097309e-02],\n",
              "       [5.45490980e-02],\n",
              "       [5.31169134e-02],\n",
              "       [4.96864957e-02],\n",
              "       [5.45979907e-02],\n",
              "       [5.23938096e-02],\n",
              "       [5.50411610e-02],\n",
              "       [5.42159841e-02],\n",
              "       [6.58944250e-02],\n",
              "       [6.55398554e-02],\n",
              "       [6.41180065e-02],\n",
              "       [6.76246286e-02],\n",
              "       [6.78598905e-02],\n",
              "       [6.38183274e-02],\n",
              "       [6.29879785e-02],\n",
              "       [6.44957169e-02],\n",
              "       [6.33849089e-02],\n",
              "       [5.86976060e-02],\n",
              "       [5.93625158e-02],\n",
              "       [5.80369840e-02],\n",
              "       [6.19490288e-02],\n",
              "       [6.72962863e-02],\n",
              "       [7.49632955e-02],\n",
              "       [7.42464315e-02],\n",
              "       [7.75328575e-02],\n",
              "       [7.48255853e-02],\n",
              "       [7.55490394e-02],\n",
              "       [7.47202755e-02],\n",
              "       [7.38516366e-02],\n",
              "       [7.19286320e-02],\n",
              "       [7.93170007e-02],\n",
              "       [8.13052567e-02],\n",
              "       [8.24352513e-02],\n",
              "       [8.36170833e-02],\n",
              "       [8.79147634e-02],\n",
              "       [8.34717318e-02],\n",
              "       [8.94790608e-02],\n",
              "       [9.14919258e-02],\n",
              "       [8.95840202e-02],\n",
              "       [9.12537942e-02],\n",
              "       [8.40323328e-02],\n",
              "       [8.48012844e-02],\n",
              "       [8.06277003e-02],\n",
              "       [8.83473811e-02],\n",
              "       [7.96580562e-02],\n",
              "       [7.92324625e-02],\n",
              "       [8.05644678e-02],\n",
              "       [8.01670868e-02],\n",
              "       [8.46318411e-02],\n",
              "       [7.99448719e-02],\n",
              "       [7.46748281e-02],\n",
              "       [6.57706960e-02],\n",
              "       [6.51551710e-02],\n",
              "       [6.32410423e-02],\n",
              "       [6.19947931e-02],\n",
              "       [6.13617332e-02],\n",
              "       [6.66103546e-02],\n",
              "       [6.52114130e-02],\n",
              "       [6.46554834e-02],\n",
              "       [7.01825952e-02],\n",
              "       [7.09306083e-02],\n",
              "       [6.72985887e-02],\n",
              "       [5.35996082e-02],\n",
              "       [5.04480062e-02],\n",
              "       [5.02102750e-02],\n",
              "       [5.02393303e-02],\n",
              "       [0.00000000e+00],\n",
              "       [1.01297097e-02],\n",
              "       [3.92222205e-03],\n",
              "       [7.20156561e-03],\n",
              "       [7.46453140e-04],\n",
              "       [4.35383032e-03],\n",
              "       [4.57266678e-03],\n",
              "       [2.08499767e-02],\n",
              "       [2.09795702e-02],\n",
              "       [2.07453093e-02],\n",
              "       [1.46835402e-02],\n",
              "       [2.46960694e-02],\n",
              "       [3.01372833e-02],\n",
              "       [2.92191512e-02],\n",
              "       [2.98235562e-02],\n",
              "       [2.56098053e-02],\n",
              "       [2.17213017e-02],\n",
              "       [1.62516916e-02],\n",
              "       [2.49271687e-02],\n",
              "       [2.50775588e-02],\n",
              "       [2.79500031e-02],\n",
              "       [3.11422059e-02],\n",
              "       [3.01130831e-02],\n",
              "       [3.24047970e-02],\n",
              "       [3.10995781e-02],\n",
              "       [3.93112634e-02],\n",
              "       [3.76819732e-02],\n",
              "       [4.03759232e-02],\n",
              "       [3.98290615e-02],\n",
              "       [3.23700442e-02],\n",
              "       [3.22605300e-02],\n",
              "       [3.41741415e-02],\n",
              "       [3.20205715e-02],\n",
              "       [3.19759834e-02],\n",
              "       [2.85536574e-02],\n",
              "       [3.66635616e-02],\n",
              "       [3.90700953e-02],\n",
              "       [3.79042466e-02],\n",
              "       [3.26513457e-02],\n",
              "       [3.26234083e-02],\n",
              "       [3.66704521e-02],\n",
              "       [4.20096430e-02],\n",
              "       [4.40798761e-02],\n",
              "       [4.44050817e-02],\n",
              "       [4.62831979e-02],\n",
              "       [4.82604508e-02],\n",
              "       [4.84561965e-02],\n",
              "       [6.54378157e-02],\n",
              "       [6.30035447e-02],\n",
              "       [6.65265840e-02],\n",
              "       [6.86421560e-02],\n",
              "       [6.70852831e-02],\n",
              "       [6.73447202e-02],\n",
              "       [6.88894305e-02],\n",
              "       [7.34286290e-02],\n",
              "       [8.50931720e-02],\n",
              "       [8.32334834e-02],\n",
              "       [7.89833862e-02],\n",
              "       [6.46757212e-02],\n",
              "       [6.20338672e-02],\n",
              "       [6.54965769e-02],\n",
              "       [7.34495675e-02],\n",
              "       [8.13722265e-02],\n",
              "       [7.44440542e-02],\n",
              "       [7.52780569e-02],\n",
              "       [8.02962048e-02],\n",
              "       [8.12501325e-02],\n",
              "       [8.12922097e-02],\n",
              "       [7.77718399e-02],\n",
              "       [7.02338319e-02],\n",
              "       [7.19562108e-02],\n",
              "       [7.24125364e-02],\n",
              "       [6.52555256e-02],\n",
              "       [6.72470016e-02],\n",
              "       [6.60189381e-02],\n",
              "       [7.19295663e-02],\n",
              "       [7.78191559e-02],\n",
              "       [7.63391798e-02],\n",
              "       [8.08031833e-02],\n",
              "       [7.67139204e-02],\n",
              "       [8.87791478e-02],\n",
              "       [7.78883948e-02],\n",
              "       [8.00566551e-02],\n",
              "       [8.25154349e-02],\n",
              "       [8.02072621e-02],\n",
              "       [8.00047510e-02],\n",
              "       [8.18015741e-02],\n",
              "       [8.20174658e-02],\n",
              "       [8.24310970e-02],\n",
              "       [8.37020886e-02],\n",
              "       [7.43344399e-02],\n",
              "       [7.70519395e-02],\n",
              "       [7.69568403e-02],\n",
              "       [7.54450477e-02],\n",
              "       [7.65369860e-02],\n",
              "       [7.80288412e-02],\n",
              "       [7.70418790e-02],\n",
              "       [7.58730605e-02],\n",
              "       [7.37576220e-02],\n",
              "       [7.45148447e-02],\n",
              "       [7.40243333e-02],\n",
              "       [7.99199792e-02],\n",
              "       [7.95943565e-02],\n",
              "       [7.41948444e-02],\n",
              "       [7.33611754e-02],\n",
              "       [7.16203440e-02],\n",
              "       [6.96124508e-02],\n",
              "       [7.12899996e-02],\n",
              "       [7.20976248e-02],\n",
              "       [7.11945167e-02],\n",
              "       [7.27377922e-02],\n",
              "       [7.09453737e-02],\n",
              "       [7.03285140e-02],\n",
              "       [7.11004687e-02],\n",
              "       [7.01002427e-02],\n",
              "       [7.52517629e-02],\n",
              "       [7.31470021e-02],\n",
              "       [7.61548209e-02],\n",
              "       [7.35859096e-02],\n",
              "       [7.36002579e-02],\n",
              "       [7.29431729e-02],\n",
              "       [7.35608335e-02],\n",
              "       [7.29989978e-02],\n",
              "       [7.29921573e-02],\n",
              "       [7.21314935e-02],\n",
              "       [7.10960140e-02],\n",
              "       [7.14234387e-02],\n",
              "       [7.15540916e-02],\n",
              "       [7.20115685e-02],\n",
              "       [7.16427840e-02],\n",
              "       [7.52417357e-02],\n",
              "       [7.78125323e-02],\n",
              "       [7.87642912e-02],\n",
              "       [7.80095043e-02],\n",
              "       [8.04051016e-02],\n",
              "       [8.43012799e-02],\n",
              "       [1.02849999e-01],\n",
              "       [1.01516559e-01],\n",
              "       [1.04722368e-01],\n",
              "       [1.04905959e-01],\n",
              "       [1.08532189e-01],\n",
              "       [1.15983173e-01],\n",
              "       [1.03921900e-01],\n",
              "       [1.07214666e-01],\n",
              "       [1.06523495e-01],\n",
              "       [1.15768416e-01],\n",
              "       [1.16327949e-01],\n",
              "       [1.13281774e-01],\n",
              "       [1.15888408e-01],\n",
              "       [1.14550580e-01],\n",
              "       [1.18008001e-01],\n",
              "       [1.10019540e-01],\n",
              "       [1.12999229e-01],\n",
              "       [1.16402510e-01],\n",
              "       [1.16141689e-01],\n",
              "       [1.17795930e-01],\n",
              "       [1.18259012e-01],\n",
              "       [1.24436736e-01],\n",
              "       [1.19940632e-01],\n",
              "       [1.15960800e-01],\n",
              "       [1.18012455e-01],\n",
              "       [1.13128297e-01],\n",
              "       [1.14654555e-01],\n",
              "       [1.14364503e-01],\n",
              "       [1.16239491e-01],\n",
              "       [1.09261149e-01],\n",
              "       [1.11349359e-01],\n",
              "       [1.08531005e-01],\n",
              "       [1.12274257e-01],\n",
              "       [1.11665456e-01],\n",
              "       [1.15161634e-01],\n",
              "       [1.14637387e-01],\n",
              "       [1.19586046e-01],\n",
              "       [1.10079486e-01],\n",
              "       [9.01122208e-02],\n",
              "       [9.46655174e-02],\n",
              "       [8.88184221e-02],\n",
              "       [9.07111118e-02],\n",
              "       [9.22352506e-02],\n",
              "       [8.81683444e-02],\n",
              "       [9.00618350e-02],\n",
              "       [9.21254862e-02],\n",
              "       [9.27708757e-02],\n",
              "       [9.34757104e-02],\n",
              "       [9.14526515e-02],\n",
              "       [9.75532110e-02],\n",
              "       [9.95369456e-02],\n",
              "       [1.02577198e-01],\n",
              "       [1.02134453e-01],\n",
              "       [1.02059208e-01],\n",
              "       [1.04617792e-01],\n",
              "       [1.01951329e-01],\n",
              "       [9.38189182e-02],\n",
              "       [9.51207586e-02],\n",
              "       [8.97802247e-02],\n",
              "       [9.86587635e-02],\n",
              "       [9.79197097e-02],\n",
              "       [9.88106218e-02],\n",
              "       [9.91521278e-02],\n",
              "       [9.82449488e-02],\n",
              "       [1.00423270e-01],\n",
              "       [9.93774961e-02],\n",
              "       [9.65707201e-02],\n",
              "       [9.59186738e-02],\n",
              "       [9.55826068e-02],\n",
              "       [9.76145583e-02],\n",
              "       [9.96573878e-02],\n",
              "       [9.65422571e-02],\n",
              "       [9.75241474e-02],\n",
              "       [1.01701152e-01],\n",
              "       [1.08069107e-01],\n",
              "       [1.09569471e-01],\n",
              "       [1.10343828e-01],\n",
              "       [1.11468717e-01],\n",
              "       [1.08509232e-01],\n",
              "       [1.09123906e-01],\n",
              "       [1.11263870e-01],\n",
              "       [1.15683244e-01],\n",
              "       [1.18661032e-01],\n",
              "       [1.34162708e-01],\n",
              "       [1.36592157e-01],\n",
              "       [1.36005262e-01],\n",
              "       [1.39021073e-01],\n",
              "       [1.37707470e-01],\n",
              "       [1.38460455e-01],\n",
              "       [1.48351866e-01],\n",
              "       [1.41809646e-01],\n",
              "       [1.44655880e-01],\n",
              "       [1.46511931e-01],\n",
              "       [1.50517774e-01],\n",
              "       [1.49768009e-01],\n",
              "       [1.46579702e-01],\n",
              "       [1.53410273e-01],\n",
              "       [1.56543672e-01],\n",
              "       [1.81250244e-01],\n",
              "       [1.81011612e-01],\n",
              "       [1.68503607e-01],\n",
              "       [1.79536992e-01],\n",
              "       [1.77021269e-01],\n",
              "       [1.76313748e-01],\n",
              "       [1.83325858e-01],\n",
              "       [1.93149499e-01],\n",
              "       [1.93857904e-01],\n",
              "       [1.89592424e-01],\n",
              "       [1.87669553e-01],\n",
              "       [2.00662697e-01],\n",
              "       [2.16539215e-01],\n",
              "       [2.19248806e-01],\n",
              "       [2.19472339e-01],\n",
              "       [2.33212095e-01],\n",
              "       [2.33569468e-01],\n",
              "       [2.28918553e-01],\n",
              "       [2.28818081e-01],\n",
              "       [2.41517720e-01],\n",
              "       [2.35105169e-01],\n",
              "       [2.08086103e-01],\n",
              "       [2.07364784e-01],\n",
              "       [2.17769430e-01],\n",
              "       [2.25629491e-01],\n",
              "       [2.50373819e-01],\n",
              "       [2.36316064e-01],\n",
              "       [2.43117288e-01],\n",
              "       [2.47291139e-01],\n",
              "       [2.34552392e-01],\n",
              "       [2.42316686e-01],\n",
              "       [2.45577953e-01],\n",
              "       [2.42955652e-01],\n",
              "       [2.28083849e-01],\n",
              "       [2.32060628e-01],\n",
              "       [2.27124516e-01],\n",
              "       [2.23603612e-01],\n",
              "       [2.36327309e-01],\n",
              "       [2.42114275e-01],\n",
              "       [2.43895532e-01],\n",
              "       [2.46807268e-01],\n",
              "       [2.79157091e-01],\n",
              "       [3.04690942e-01],\n",
              "       [3.10376635e-01],\n",
              "       [3.22880270e-01],\n",
              "       [3.16173979e-01],\n",
              "       [3.04655405e-01],\n",
              "       [3.21397291e-01],\n",
              "       [3.12142910e-01],\n",
              "       [3.20592952e-01],\n",
              "       [3.36461728e-01],\n",
              "       [3.66739624e-01],\n",
              "       [3.63925090e-01],\n",
              "       [3.77806461e-01],\n",
              "       [3.82549606e-01],\n",
              "       [4.07809271e-01],\n",
              "       [4.10555901e-01],\n",
              "       [4.16918700e-01],\n",
              "       [4.63954232e-01],\n",
              "       [4.75140393e-01],\n",
              "       [4.61300099e-01],\n",
              "       [4.95819550e-01],\n",
              "       [5.44201653e-01],\n",
              "       [5.87710342e-01],\n",
              "       [6.12082482e-01],\n",
              "       [6.02804544e-01],\n",
              "       [5.70376406e-01],\n",
              "       [5.22714387e-01],\n",
              "       [4.94632713e-01],\n",
              "       [5.52607149e-01],\n",
              "       [5.84571670e-01],\n",
              "       [5.44218804e-01],\n",
              "       [5.33161277e-01],\n",
              "       [5.26551921e-01],\n",
              "       [5.40882326e-01],\n",
              "       [5.31310415e-01],\n",
              "       [5.22391384e-01],\n",
              "       [4.41717619e-01],\n",
              "       [4.78962845e-01],\n",
              "       [4.62935571e-01],\n",
              "       [4.66723820e-01],\n",
              "       [4.68039558e-01],\n",
              "       [4.71515515e-01],\n",
              "       [4.35000817e-01],\n",
              "       [4.55793625e-01],\n",
              "       [5.01354187e-01],\n",
              "       [5.00553552e-01],\n",
              "       [4.80818179e-01],\n",
              "       [4.88041776e-01],\n",
              "       [5.21751383e-01],\n",
              "       [5.55267722e-01],\n",
              "       [5.45939198e-01],\n",
              "       [5.66752228e-01],\n",
              "       [5.85915938e-01],\n",
              "       [5.79721614e-01],\n",
              "       [7.04319101e-01],\n",
              "       [7.09182037e-01],\n",
              "       [6.82480335e-01],\n",
              "       [7.33582540e-01],\n",
              "       [7.26672203e-01],\n",
              "       [7.19849757e-01],\n",
              "       [7.47386063e-01],\n",
              "       [7.34192909e-01],\n",
              "       [7.55630724e-01],\n",
              "       [8.06015181e-01],\n",
              "       [7.97998957e-01],\n",
              "       [8.69896173e-01],\n",
              "       [8.73507605e-01],\n",
              "       [8.98116525e-01],\n",
              "       [8.41180372e-01],\n",
              "       [7.49216437e-01],\n",
              "       [7.64266259e-01],\n",
              "       [7.19650483e-01],\n",
              "       [7.06767253e-01],\n",
              "       [7.04182225e-01],\n",
              "       [6.86231846e-01],\n",
              "       [7.63000473e-01],\n",
              "       [7.41606371e-01],\n",
              "       [7.78496093e-01],\n",
              "       [7.44718815e-01],\n",
              "       [7.50974070e-01],\n",
              "       [7.50719137e-01],\n",
              "       [7.89916198e-01],\n",
              "       [8.07681184e-01],\n",
              "       [8.51718023e-01],\n",
              "       [8.71953451e-01],\n",
              "       [9.02646914e-01],\n",
              "       [8.94565423e-01],\n",
              "       [9.61382743e-01],\n",
              "       [9.28225712e-01],\n",
              "       [8.70221913e-01],\n",
              "       [8.85558701e-01],\n",
              "       [9.20855095e-01],\n",
              "       [9.03566072e-01],\n",
              "       [9.11898692e-01],\n",
              "       [9.11334771e-01],\n",
              "       [8.97834231e-01],\n",
              "       [8.46678570e-01],\n",
              "       [8.50262907e-01],\n",
              "       [8.16697383e-01],\n",
              "       [7.98415191e-01],\n",
              "       [8.57068801e-01],\n",
              "       [8.71354827e-01],\n",
              "       [8.70965888e-01],\n",
              "       [9.01708603e-01],\n",
              "       [9.21654595e-01],\n",
              "       [9.21674082e-01],\n",
              "       [9.24697634e-01],\n",
              "       [9.29626573e-01],\n",
              "       [8.99208997e-01],\n",
              "       [9.18935828e-01],\n",
              "       [9.24049626e-01],\n",
              "       [9.09262678e-01],\n",
              "       [8.72643437e-01],\n",
              "       [9.11510888e-01],\n",
              "       [9.10162082e-01],\n",
              "       [9.36612789e-01],\n",
              "       [9.43646988e-01],\n",
              "       [9.38324974e-01],\n",
              "       [1.00000000e+00],\n",
              "       [9.93272787e-01],\n",
              "       [9.96763426e-01],\n",
              "       [9.67015549e-01],\n",
              "       [9.51827983e-01],\n",
              "       [8.75500749e-01],\n",
              "       [8.67096588e-01],\n",
              "       [8.79888857e-01],\n",
              "       [8.36034007e-01],\n",
              "       [7.99408026e-01],\n",
              "       [7.87984985e-01],\n",
              "       [7.70169547e-01],\n",
              "       [7.52288707e-01],\n",
              "       [8.38010067e-01],\n",
              "       [8.55288679e-01],\n",
              "       [8.51728034e-01],\n",
              "       [8.30037689e-01],\n",
              "       [9.01708202e-01],\n",
              "       [9.03038656e-01],\n",
              "       [8.82589005e-01],\n",
              "       [8.92313742e-01],\n",
              "       [8.26252277e-01],\n",
              "       [8.96135793e-01],\n",
              "       [8.78581627e-01],\n",
              "       [8.94980789e-01],\n",
              "       [9.19708433e-01],\n",
              "       [9.09945323e-01],\n",
              "       [8.69412069e-01],\n",
              "       [8.83844647e-01],\n",
              "       [7.54787845e-01],\n",
              "       [7.64451786e-01],\n",
              "       [7.67259513e-01],\n",
              "       [7.13950007e-01],\n",
              "       [7.08754124e-01],\n",
              "       [6.58892279e-01],\n",
              "       [6.48161359e-01],\n",
              "       [5.47244025e-01],\n",
              "       [6.11828417e-01],\n",
              "       [5.52407808e-01],\n",
              "       [5.56370405e-01],\n",
              "       [5.09113876e-01],\n",
              "       [5.76348097e-01],\n",
              "       [5.71158554e-01],\n",
              "       [5.86397507e-01],\n",
              "       [5.71752173e-01],\n",
              "       [5.24951586e-01],\n",
              "       [5.06474057e-01],\n",
              "       [5.24618839e-01],\n",
              "       [5.52888976e-01],\n",
              "       [5.41819436e-01],\n",
              "       [5.57028958e-01],\n",
              "       [5.84937919e-01],\n",
              "       [5.45398300e-01],\n",
              "       [5.22463258e-01],\n",
              "       [5.27766654e-01],\n",
              "       [4.88443795e-01],\n",
              "       [4.86939093e-01],\n",
              "       [5.53098528e-01],\n",
              "       [5.42121351e-01],\n",
              "       [5.52915337e-01],\n",
              "       [5.22472802e-01],\n",
              "       [5.83043143e-01],\n",
              "       [6.02188301e-01],\n",
              "       [6.05396646e-01],\n",
              "       [5.70216172e-01],\n",
              "       [5.65200877e-01],\n",
              "       [5.26483049e-01],\n",
              "       [5.23555197e-01],\n",
              "       [5.24963398e-01],\n",
              "       [4.56256408e-01],\n",
              "       [4.70418871e-01],\n",
              "       [4.91216952e-01],\n",
              "       [5.07266283e-01],\n",
              "       [4.55591581e-01],\n",
              "       [4.64962383e-01],\n",
              "       [5.07047722e-01],\n",
              "       [5.03369287e-01],\n",
              "       [5.27858883e-01],\n",
              "       [5.13731022e-01],\n",
              "       [4.88638731e-01],\n",
              "       [4.94189985e-01],\n",
              "       [5.07370659e-01],\n",
              "       [5.17949954e-01],\n",
              "       [4.91609495e-01],\n",
              "       [4.99967074e-01],\n",
              "       [4.93477242e-01],\n",
              "       [4.76769358e-01],\n",
              "       [4.92498021e-01],\n",
              "       [4.87757213e-01],\n",
              "       [5.00052363e-01],\n",
              "       [4.81526984e-01],\n",
              "       [4.73773669e-01],\n",
              "       [4.75829312e-01],\n",
              "       [4.58033827e-01],\n",
              "       [4.51897230e-01],\n",
              "       [4.53802650e-01],\n",
              "       [4.58308547e-01],\n",
              "       [4.41583212e-01],\n",
              "       [4.24319615e-01],\n",
              "       [4.63671071e-01],\n",
              "       [4.67129175e-01],\n",
              "       [4.88799899e-01],\n",
              "       [5.00945160e-01],\n",
              "       [5.19016132e-01],\n",
              "       [5.52968926e-01],\n",
              "       [5.88323648e-01],\n",
              "       [5.98385804e-01],\n",
              "       [5.98599627e-01],\n",
              "       [6.36648891e-01],\n",
              "       [6.26238439e-01],\n",
              "       [5.98026830e-01],\n",
              "       [5.84821397e-01],\n",
              "       [5.66900382e-01],\n",
              "       [5.94141980e-01],\n",
              "       [6.13311630e-01],\n",
              "       [6.46574171e-01],\n",
              "       [6.76289214e-01],\n",
              "       [6.63344587e-01],\n",
              "       [7.07205310e-01],\n",
              "       [6.93873078e-01],\n",
              "       [6.94020098e-01],\n",
              "       [6.74110743e-01],\n",
              "       [7.31600540e-01],\n",
              "       [7.19703338e-01],\n",
              "       [7.18850115e-01],\n",
              "       [7.01039215e-01],\n",
              "       [6.78673500e-01],\n",
              "       [6.80481518e-01],\n",
              "       [7.13222048e-01],\n",
              "       [7.58010672e-01],\n",
              "       [7.50601414e-01],\n",
              "       [7.57711293e-01],\n",
              "       [7.61546691e-01],\n",
              "       [7.30110721e-01],\n",
              "       [7.51546133e-01],\n",
              "       [7.17059916e-01],\n",
              "       [7.53218342e-01],\n",
              "       [7.50548626e-01],\n",
              "       [7.49308800e-01],\n",
              "       [7.18986457e-01],\n",
              "       [7.20894847e-01],\n",
              "       [7.49602573e-01],\n",
              "       [7.57815001e-01],\n",
              "       [7.69734026e-01],\n",
              "       [7.68354454e-01],\n",
              "       [7.99256602e-01],\n",
              "       [8.14293076e-01],\n",
              "       [7.14820314e-01],\n",
              "       [7.02523963e-01],\n",
              "       [7.07649840e-01],\n",
              "       [6.81894791e-01],\n",
              "       [6.87319913e-01],\n",
              "       [7.02043529e-01],\n",
              "       [6.83247268e-01],\n",
              "       [7.19627259e-01],\n",
              "       [7.38144362e-01],\n",
              "       [7.31430363e-01],\n",
              "       [7.22617509e-01],\n",
              "       [7.39887245e-01],\n",
              "       [7.22492779e-01],\n",
              "       [6.47040591e-01],\n",
              "       [6.10306831e-01],\n",
              "       [6.59524338e-01],\n",
              "       [6.82085924e-01],\n",
              "       [6.46971385e-01],\n",
              "       [6.44867325e-01],\n",
              "       [6.53271953e-01],\n",
              "       [6.36652028e-01],\n",
              "       [6.16130368e-01],\n",
              "       [6.25182071e-01],\n",
              "       [6.63221192e-01],\n",
              "       [7.37129437e-01],\n",
              "       [7.30202483e-01],\n",
              "       [7.38547649e-01],\n",
              "       [7.54144908e-01],\n",
              "       [7.95180286e-01],\n",
              "       [8.60898060e-01],\n",
              "       [8.34323757e-01],\n",
              "       [8.37089107e-01],\n",
              "       [8.54179990e-01],\n",
              "       [8.50820421e-01],\n",
              "       [8.79695589e-01]])"
            ]
          },
          "metadata": {},
          "execution_count": 55
        }
      ]
    },
    {
      "cell_type": "code",
      "metadata": {
        "id": "VeoLUCLk-sTM"
      },
      "source": [
        ""
      ],
      "id": "VeoLUCLk-sTM",
      "execution_count": null,
      "outputs": []
    }
  ]
}