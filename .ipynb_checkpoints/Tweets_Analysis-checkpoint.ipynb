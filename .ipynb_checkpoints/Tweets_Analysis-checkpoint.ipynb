{
 "cells": [
  {
   "cell_type": "code",
   "execution_count": 45,
   "metadata": {},
   "outputs": [],
   "source": [
    "import pandas as pd\n",
    "import numpy as np\n",
    "import matplotlib.pyplot as plt\n",
    "import scipy.stats as stat\n",
    "import statsmodels.api as sm\n",
    "\n",
    "from pandas_datareader import data\n",
    "from matplotlib.ticker import FuncFormatter \n",
    "from scipy.stats import norm\n",
    "%matplotlib inline\n",
    "# %matplotlib widget"
   ]
  },
  {
   "cell_type": "code",
   "execution_count": 24,
   "metadata": {},
   "outputs": [],
   "source": [
    "import requests \n",
    "from bs4 import BeautifulSoup\n",
    "import pandas as pd\n",
    "import re\n",
    "\n",
    "\n",
    "def parse_strlist(sl):\n",
    "    clean = re.sub(\"[\\[\\],\\s]\",\"\",sl)\n",
    "    splitted = re.split(\"[\\'\\\"]\",clean)\n",
    "    values_only = [s for s in splitted if s != '']\n",
    "    return values_only\n",
    "\n",
    "\n",
    "url = 'https://bitinfocharts.com/comparison/tweets-btc.html#3y'\n",
    "response = requests.get(url)\n",
    "soup = BeautifulSoup(response.text, 'html.parser')\n",
    "\n",
    "scripts = soup.find_all('script')\n",
    "for script in scripts:\n",
    "    \n",
    "    if 'new Dygraph(document.getElementById(\"container\")' in script.text:\n",
    "        StrList = script.text\n",
    "        StrList = '[[' + StrList.split('[[')[-1]\n",
    "        StrList = StrList.split(']]')[0] +']]'\n",
    "        StrList = StrList.replace(\"new Date(\", '').replace(')','')\n",
    "        dataList = parse_strlist(StrList)\n",
    "\n",
    "date = []\n",
    "tweet = []\n",
    "for each in dataList:\n",
    "    if (dataList.index(each) % 2) == 0:\n",
    "        date.append(each)\n",
    "    else:\n",
    "        tweet.append(each)\n",
    "\n",
    "df_btc = pd.DataFrame(list(zip(date, tweet)), columns=[\"Date\",\"Decred - BTC Tweets\"])"
   ]
  },
  {
   "cell_type": "code",
   "execution_count": 25,
   "metadata": {},
   "outputs": [],
   "source": [
    "import requests \n",
    "from bs4 import BeautifulSoup\n",
    "import pandas as pd\n",
    "import re\n",
    "\n",
    "\n",
    "def parse_strlist(sl):\n",
    "    clean = re.sub(\"[\\[\\],\\s]\",\"\",sl)\n",
    "    splitted = re.split(\"[\\'\\\"]\",clean)\n",
    "    values_only = [s for s in splitted if s != '']\n",
    "    return values_only\n",
    "\n",
    "\n",
    "url = 'https://bitinfocharts.com/comparison/tweets-eth.html#3y'\n",
    "response = requests.get(url)\n",
    "soup = BeautifulSoup(response.text, 'html.parser')\n",
    "\n",
    "scripts = soup.find_all('script')\n",
    "for script in scripts:\n",
    "    \n",
    "    if 'new Dygraph(document.getElementById(\"container\")' in script.text:\n",
    "        StrList = script.text\n",
    "        StrList = '[[' + StrList.split('[[')[-1]\n",
    "        StrList = StrList.split(']]')[0] +']]'\n",
    "        StrList = StrList.replace(\"new Date(\", '').replace(')','')\n",
    "        dataList = parse_strlist(StrList)\n",
    "\n",
    "date = []\n",
    "tweet = []\n",
    "for each in dataList:\n",
    "    if (dataList.index(each) % 2) == 0:\n",
    "        date.append(each)\n",
    "    else:\n",
    "        tweet.append(each)\n",
    "\n",
    "df_ETH = pd.DataFrame(list(zip(date, tweet)), columns=[\"Date\",\"Decred - ETH Tweets\"])"
   ]
  },
  {
   "cell_type": "code",
   "execution_count": 172,
   "metadata": {},
   "outputs": [
    {
     "data": {
      "text/html": [
       "<div>\n",
       "<style scoped>\n",
       "    .dataframe tbody tr th:only-of-type {\n",
       "        vertical-align: middle;\n",
       "    }\n",
       "\n",
       "    .dataframe tbody tr th {\n",
       "        vertical-align: top;\n",
       "    }\n",
       "\n",
       "    .dataframe thead th {\n",
       "        text-align: right;\n",
       "    }\n",
       "</style>\n",
       "<table border=\"1\" class=\"dataframe\">\n",
       "  <thead>\n",
       "    <tr style=\"text-align: right;\">\n",
       "      <th></th>\n",
       "      <th>Date</th>\n",
       "      <th>Decred - ETH Tweets</th>\n",
       "    </tr>\n",
       "  </thead>\n",
       "  <tbody>\n",
       "    <tr>\n",
       "      <th>0</th>\n",
       "      <td>2016/03/16</td>\n",
       "      <td>1185</td>\n",
       "    </tr>\n",
       "    <tr>\n",
       "      <th>1</th>\n",
       "      <td>2016/03/17</td>\n",
       "      <td>1211</td>\n",
       "    </tr>\n",
       "    <tr>\n",
       "      <th>2</th>\n",
       "      <td>2016/03/18</td>\n",
       "      <td>1123</td>\n",
       "    </tr>\n",
       "    <tr>\n",
       "      <th>3</th>\n",
       "      <td>2016/03/19</td>\n",
       "      <td>943</td>\n",
       "    </tr>\n",
       "    <tr>\n",
       "      <th>4</th>\n",
       "      <td>2016/03/20</td>\n",
       "      <td>1304</td>\n",
       "    </tr>\n",
       "    <tr>\n",
       "      <th>...</th>\n",
       "      <td>...</td>\n",
       "      <td>...</td>\n",
       "    </tr>\n",
       "    <tr>\n",
       "      <th>2033</th>\n",
       "      <td>2021/10/09</td>\n",
       "      <td>23473</td>\n",
       "    </tr>\n",
       "    <tr>\n",
       "      <th>2034</th>\n",
       "      <td>2021/10/10</td>\n",
       "      <td>24494</td>\n",
       "    </tr>\n",
       "    <tr>\n",
       "      <th>2035</th>\n",
       "      <td>2021/10/11</td>\n",
       "      <td>28262</td>\n",
       "    </tr>\n",
       "    <tr>\n",
       "      <th>2036</th>\n",
       "      <td>2021/10/12</td>\n",
       "      <td>25610</td>\n",
       "    </tr>\n",
       "    <tr>\n",
       "      <th>2037</th>\n",
       "      <td>2021/10/13</td>\n",
       "      <td>15194</td>\n",
       "    </tr>\n",
       "  </tbody>\n",
       "</table>\n",
       "<p>2038 rows × 2 columns</p>\n",
       "</div>"
      ],
      "text/plain": [
       "            Date Decred - ETH Tweets\n",
       "0     2016/03/16                1185\n",
       "1     2016/03/17                1211\n",
       "2     2016/03/18                1123\n",
       "3     2016/03/19                 943\n",
       "4     2016/03/20                1304\n",
       "...          ...                 ...\n",
       "2033  2021/10/09               23473\n",
       "2034  2021/10/10               24494\n",
       "2035  2021/10/11               28262\n",
       "2036  2021/10/12               25610\n",
       "2037  2021/10/13               15194\n",
       "\n",
       "[2038 rows x 2 columns]"
      ]
     },
     "execution_count": 172,
     "metadata": {},
     "output_type": "execute_result"
    }
   ],
   "source": [
    "df_ETH"
   ]
  },
  {
   "cell_type": "code",
   "execution_count": 277,
   "metadata": {},
   "outputs": [],
   "source": [
    "total_df = df_btc.merge(df_ETH, on ='Date',how = 'left')"
   ]
  },
  {
   "cell_type": "code",
   "execution_count": 278,
   "metadata": {},
   "outputs": [],
   "source": [
    "total_df.dropna(inplace= True)"
   ]
  },
  {
   "cell_type": "code",
   "execution_count": 279,
   "metadata": {},
   "outputs": [
    {
     "data": {
      "image/png": "[encoded data removed]",
      "text/plain": [
       "<Figure size 432x288 with 1 Axes>"
      ]
     },
     "metadata": {
      "needs_background": "light"
     },
     "output_type": "display_data"
    }
   ],
   "source": [
    "import matplotlib.pyplot as plt\n",
    "\n",
    "\n",
    "\n",
    "plt.plot(total_df['Decred - BTC Tweets'],total_df['Date'])\n",
    "plt.title('title name')\n",
    "plt.show()"
   ]
  },
  {
   "cell_type": "code",
   "execution_count": 280,
   "metadata": {},
   "outputs": [],
   "source": [
    "from datetime import datetime\n",
    "today = datetime.today().strftime('%Y-%m-%d')"
   ]
  },
  {
   "cell_type": "code",
   "execution_count": 281,
   "metadata": {},
   "outputs": [],
   "source": [
    "tickers = ['BTC-USD','ETH-USD']\n",
    "\n",
    "start_date = '2016/03/16'\n",
    "end_date = '2020-12-31'\n",
    "end_date = today\n",
    "\n",
    "close_price_df = pd.DataFrame()\n",
    "for ticker in tickers:\n",
    "    panel_data = data.DataReader(ticker, 'yahoo', start_date, end_date)\n",
    "    panel_data[ticker] = panel_data['Close']\n",
    "    \n",
    "    if close_price_df.empty:\n",
    "        close_price_df = panel_data[[ticker]]\n",
    "    else:\n",
    "        close_price_df = close_price_df.join(panel_data[[ticker]], how='outer')"
   ]
  },
  {
   "cell_type": "code",
   "execution_count": null,
   "metadata": {},
   "outputs": [],
   "source": []
  },
  {
   "cell_type": "code",
   "execution_count": 282,
   "metadata": {},
   "outputs": [],
   "source": [
    "def transform_date(dummy):\n",
    "    new_str = dummy.split(\"/\")\n",
    "    returning_str = new_str[0] + '-' + new_str[1] + \"-\" + new_str[2]\n",
    "    return returning_str\n",
    "\n",
    "transform_date('2020/15/02')\n",
    "\n",
    "total_df['Date'] = total_df['Date'].apply(transform_date)"
   ]
  },
  {
   "cell_type": "code",
   "execution_count": 283,
   "metadata": {},
   "outputs": [],
   "source": [
    "close_price_df.reset_index(inplace = True)"
   ]
  },
  {
   "cell_type": "code",
   "execution_count": 284,
   "metadata": {},
   "outputs": [],
   "source": [
    "total_df['Date'] = pd.to_datetime(total_df['Date'])"
   ]
  },
  {
   "cell_type": "code",
   "execution_count": 285,
   "metadata": {},
   "outputs": [],
   "source": [
    "new_training_data = close_price_df.merge(total_df)"
   ]
  },
  {
   "cell_type": "code",
   "execution_count": 286,
   "metadata": {},
   "outputs": [
    {
     "name": "stdout",
     "output_type": "stream",
     "text": [
      "<class 'pandas.core.frame.DataFrame'>\n",
      "Int64Index: 2046 entries, 0 to 2045\n",
      "Data columns (total 5 columns):\n",
      " #   Column               Non-Null Count  Dtype         \n",
      "---  ------               --------------  -----         \n",
      " 0   Date                 2046 non-null   datetime64[ns]\n",
      " 1   BTC-USD              2046 non-null   float64       \n",
      " 2   ETH-USD              2046 non-null   float64       \n",
      " 3   Decred - BTC Tweets  2046 non-null   object        \n",
      " 4   Decred - ETH Tweets  2046 non-null   object        \n",
      "dtypes: datetime64[ns](1), float64(2), object(2)\n",
      "memory usage: 95.9+ KB\n"
     ]
    }
   ],
   "source": [
    "new_training_data.info()\n"
   ]
  },
  {
   "cell_type": "code",
   "execution_count": 287,
   "metadata": {},
   "outputs": [
    {
     "data": {
      "text/html": [
       "<div>\n",
       "<style scoped>\n",
       "    .dataframe tbody tr th:only-of-type {\n",
       "        vertical-align: middle;\n",
       "    }\n",
       "\n",
       "    .dataframe tbody tr th {\n",
       "        vertical-align: top;\n",
       "    }\n",
       "\n",
       "    .dataframe thead th {\n",
       "        text-align: right;\n",
       "    }\n",
       "</style>\n",
       "<table border=\"1\" class=\"dataframe\">\n",
       "  <thead>\n",
       "    <tr style=\"text-align: right;\">\n",
       "      <th></th>\n",
       "      <th>Date</th>\n",
       "      <th>BTC-USD</th>\n",
       "      <th>ETH-USD</th>\n",
       "      <th>Decred - BTC Tweets</th>\n",
       "      <th>Decred - ETH Tweets</th>\n",
       "    </tr>\n",
       "  </thead>\n",
       "  <tbody>\n",
       "    <tr>\n",
       "      <th>0</th>\n",
       "      <td>2016-03-16</td>\n",
       "      <td>417.010986</td>\n",
       "      <td>12.520900</td>\n",
       "      <td>33113</td>\n",
       "      <td>1185</td>\n",
       "    </tr>\n",
       "    <tr>\n",
       "      <th>1</th>\n",
       "      <td>2016-03-17</td>\n",
       "      <td>420.621002</td>\n",
       "      <td>11.081500</td>\n",
       "      <td>30033</td>\n",
       "      <td>1211</td>\n",
       "    </tr>\n",
       "    <tr>\n",
       "      <th>2</th>\n",
       "      <td>2016-03-18</td>\n",
       "      <td>409.548004</td>\n",
       "      <td>10.998100</td>\n",
       "      <td>25976</td>\n",
       "      <td>1123</td>\n",
       "    </tr>\n",
       "    <tr>\n",
       "      <th>3</th>\n",
       "      <td>2016-03-19</td>\n",
       "      <td>410.444000</td>\n",
       "      <td>10.530700</td>\n",
       "      <td>27011</td>\n",
       "      <td>943</td>\n",
       "    </tr>\n",
       "    <tr>\n",
       "      <th>4</th>\n",
       "      <td>2016-03-20</td>\n",
       "      <td>413.755005</td>\n",
       "      <td>10.319800</td>\n",
       "      <td>22064</td>\n",
       "      <td>1304</td>\n",
       "    </tr>\n",
       "    <tr>\n",
       "      <th>...</th>\n",
       "      <td>...</td>\n",
       "      <td>...</td>\n",
       "      <td>...</td>\n",
       "      <td>...</td>\n",
       "      <td>...</td>\n",
       "    </tr>\n",
       "    <tr>\n",
       "      <th>2041</th>\n",
       "      <td>2021-10-08</td>\n",
       "      <td>54968.222656</td>\n",
       "      <td>3575.716797</td>\n",
       "      <td>107673</td>\n",
       "      <td>25040</td>\n",
       "    </tr>\n",
       "    <tr>\n",
       "      <th>2042</th>\n",
       "      <td>2021-10-09</td>\n",
       "      <td>54771.578125</td>\n",
       "      <td>3425.852783</td>\n",
       "      <td>92850</td>\n",
       "      <td>23473</td>\n",
       "    </tr>\n",
       "    <tr>\n",
       "      <th>2043</th>\n",
       "      <td>2021-10-10</td>\n",
       "      <td>57484.789062</td>\n",
       "      <td>3545.354004</td>\n",
       "      <td>91018</td>\n",
       "      <td>24494</td>\n",
       "    </tr>\n",
       "    <tr>\n",
       "      <th>2044</th>\n",
       "      <td>2021-10-11</td>\n",
       "      <td>56041.058594</td>\n",
       "      <td>3492.573242</td>\n",
       "      <td>142028</td>\n",
       "      <td>28262</td>\n",
       "    </tr>\n",
       "    <tr>\n",
       "      <th>2045</th>\n",
       "      <td>2021-10-13</td>\n",
       "      <td>56244.679688</td>\n",
       "      <td>3504.784424</td>\n",
       "      <td>56759</td>\n",
       "      <td>15194</td>\n",
       "    </tr>\n",
       "  </tbody>\n",
       "</table>\n",
       "<p>2046 rows × 5 columns</p>\n",
       "</div>"
      ],
      "text/plain": [
       "           Date       BTC-USD      ETH-USD Decred - BTC Tweets  \\\n",
       "0    2016-03-16    417.010986    12.520900               33113   \n",
       "1    2016-03-17    420.621002    11.081500               30033   \n",
       "2    2016-03-18    409.548004    10.998100               25976   \n",
       "3    2016-03-19    410.444000    10.530700               27011   \n",
       "4    2016-03-20    413.755005    10.319800               22064   \n",
       "...         ...           ...          ...                 ...   \n",
       "2041 2021-10-08  54968.222656  3575.716797              107673   \n",
       "2042 2021-10-09  54771.578125  3425.852783               92850   \n",
       "2043 2021-10-10  57484.789062  3545.354004               91018   \n",
       "2044 2021-10-11  56041.058594  3492.573242              142028   \n",
       "2045 2021-10-13  56244.679688  3504.784424               56759   \n",
       "\n",
       "     Decred - ETH Tweets  \n",
       "0                   1185  \n",
       "1                   1211  \n",
       "2                   1123  \n",
       "3                    943  \n",
       "4                   1304  \n",
       "...                  ...  \n",
       "2041               25040  \n",
       "2042               23473  \n",
       "2043               24494  \n",
       "2044               28262  \n",
       "2045               15194  \n",
       "\n",
       "[2046 rows x 5 columns]"
      ]
     },
     "execution_count": 287,
     "metadata": {},
     "output_type": "execute_result"
    }
   ],
   "source": [
    "new_training_data"
   ]
  },
  {
   "cell_type": "code",
   "execution_count": null,
   "metadata": {},
   "outputs": [],
   "source": []
  },
  {
   "cell_type": "code",
   "execution_count": null,
   "metadata": {},
   "outputs": [],
   "source": []
  },
  {
   "cell_type": "code",
   "execution_count": 288,
   "metadata": {},
   "outputs": [],
   "source": [
    "new_training_data[['Decred - ETH Tweets', 'Decred - BTC Tweets']].convert_dtypes()\n",
    "new_training_data['Decred - ETH Tweets'] = pd.to_numeric(new_training_data['Decred - ETH Tweets'], errors='coerce')\n",
    "new_training_data['Decred - BTC Tweets'] = pd.to_numeric(new_training_data['Decred - BTC Tweets'], errors='coerce')"
   ]
  },
  {
   "cell_type": "code",
   "execution_count": 289,
   "metadata": {},
   "outputs": [
    {
     "name": "stdout",
     "output_type": "stream",
     "text": [
      "<class 'pandas.core.frame.DataFrame'>\n",
      "Int64Index: 2046 entries, 0 to 2045\n",
      "Data columns (total 5 columns):\n",
      " #   Column               Non-Null Count  Dtype         \n",
      "---  ------               --------------  -----         \n",
      " 0   Date                 2046 non-null   datetime64[ns]\n",
      " 1   BTC-USD              2046 non-null   float64       \n",
      " 2   ETH-USD              2046 non-null   float64       \n",
      " 3   Decred - BTC Tweets  1988 non-null   float64       \n",
      " 4   Decred - ETH Tweets  1988 non-null   float64       \n",
      "dtypes: datetime64[ns](1), float64(4)\n",
      "memory usage: 95.9 KB\n"
     ]
    }
   ],
   "source": [
    "new_training_data.info()"
   ]
  },
  {
   "cell_type": "code",
   "execution_count": 290,
   "metadata": {},
   "outputs": [],
   "source": [
    "new_training_data = new_training_data.apply(lambda x: x.fillna(x.mean()),axis=0)"
   ]
  },
  {
   "cell_type": "code",
   "execution_count": 244,
   "metadata": {},
   "outputs": [
    {
     "data": {
      "text/html": [
       "<div>\n",
       "<style scoped>\n",
       "    .dataframe tbody tr th:only-of-type {\n",
       "        vertical-align: middle;\n",
       "    }\n",
       "\n",
       "    .dataframe tbody tr th {\n",
       "        vertical-align: top;\n",
       "    }\n",
       "\n",
       "    .dataframe thead th {\n",
       "        text-align: right;\n",
       "    }\n",
       "</style>\n",
       "<table border=\"1\" class=\"dataframe\">\n",
       "  <thead>\n",
       "    <tr style=\"text-align: right;\">\n",
       "      <th></th>\n",
       "      <th>BTC-USD</th>\n",
       "      <th>ETH-USD</th>\n",
       "      <th>Decred - BTC Tweets</th>\n",
       "      <th>Decred - ETH Tweets</th>\n",
       "    </tr>\n",
       "  </thead>\n",
       "  <tbody>\n",
       "    <tr>\n",
       "      <th>BTC-USD</th>\n",
       "      <td>1.000000</td>\n",
       "      <td>0.912276</td>\n",
       "      <td>0.740919</td>\n",
       "      <td>0.608610</td>\n",
       "    </tr>\n",
       "    <tr>\n",
       "      <th>ETH-USD</th>\n",
       "      <td>0.912276</td>\n",
       "      <td>1.000000</td>\n",
       "      <td>0.771625</td>\n",
       "      <td>0.725193</td>\n",
       "    </tr>\n",
       "    <tr>\n",
       "      <th>Decred - BTC Tweets</th>\n",
       "      <td>0.740919</td>\n",
       "      <td>0.771625</td>\n",
       "      <td>1.000000</td>\n",
       "      <td>0.791035</td>\n",
       "    </tr>\n",
       "    <tr>\n",
       "      <th>Decred - ETH Tweets</th>\n",
       "      <td>0.608610</td>\n",
       "      <td>0.725193</td>\n",
       "      <td>0.791035</td>\n",
       "      <td>1.000000</td>\n",
       "    </tr>\n",
       "  </tbody>\n",
       "</table>\n",
       "</div>"
      ],
      "text/plain": [
       "                      BTC-USD   ETH-USD  Decred - BTC Tweets  \\\n",
       "BTC-USD              1.000000  0.912276             0.740919   \n",
       "ETH-USD              0.912276  1.000000             0.771625   \n",
       "Decred - BTC Tweets  0.740919  0.771625             1.000000   \n",
       "Decred - ETH Tweets  0.608610  0.725193             0.791035   \n",
       "\n",
       "                     Decred - ETH Tweets  \n",
       "BTC-USD                         0.608610  \n",
       "ETH-USD                         0.725193  \n",
       "Decred - BTC Tweets             0.791035  \n",
       "Decred - ETH Tweets             1.000000  "
      ]
     },
     "execution_count": 244,
     "metadata": {},
     "output_type": "execute_result"
    }
   ],
   "source": [
    "new_training_data.corr() # fill 0"
   ]
  },
  {
   "cell_type": "code",
   "execution_count": 269,
   "metadata": {},
   "outputs": [
    {
     "data": {
      "text/html": [
       "<div>\n",
       "<style scoped>\n",
       "    .dataframe tbody tr th:only-of-type {\n",
       "        vertical-align: middle;\n",
       "    }\n",
       "\n",
       "    .dataframe tbody tr th {\n",
       "        vertical-align: top;\n",
       "    }\n",
       "\n",
       "    .dataframe thead th {\n",
       "        text-align: right;\n",
       "    }\n",
       "</style>\n",
       "<table border=\"1\" class=\"dataframe\">\n",
       "  <thead>\n",
       "    <tr style=\"text-align: right;\">\n",
       "      <th></th>\n",
       "      <th>BTC-USD</th>\n",
       "      <th>ETH-USD</th>\n",
       "      <th>Decred - BTC Tweets</th>\n",
       "      <th>Decred - ETH Tweets</th>\n",
       "    </tr>\n",
       "  </thead>\n",
       "  <tbody>\n",
       "    <tr>\n",
       "      <th>BTC-USD</th>\n",
       "      <td>1.000000</td>\n",
       "      <td>0.912286</td>\n",
       "      <td>0.746946</td>\n",
       "      <td>0.610682</td>\n",
       "    </tr>\n",
       "    <tr>\n",
       "      <th>ETH-USD</th>\n",
       "      <td>0.912286</td>\n",
       "      <td>1.000000</td>\n",
       "      <td>0.784253</td>\n",
       "      <td>0.733593</td>\n",
       "    </tr>\n",
       "    <tr>\n",
       "      <th>Decred - BTC Tweets</th>\n",
       "      <td>0.746946</td>\n",
       "      <td>0.784253</td>\n",
       "      <td>1.000000</td>\n",
       "      <td>0.784031</td>\n",
       "    </tr>\n",
       "    <tr>\n",
       "      <th>Decred - ETH Tweets</th>\n",
       "      <td>0.610682</td>\n",
       "      <td>0.733593</td>\n",
       "      <td>0.784031</td>\n",
       "      <td>1.000000</td>\n",
       "    </tr>\n",
       "  </tbody>\n",
       "</table>\n",
       "</div>"
      ],
      "text/plain": [
       "                      BTC-USD   ETH-USD  Decred - BTC Tweets  \\\n",
       "BTC-USD              1.000000  0.912286             0.746946   \n",
       "ETH-USD              0.912286  1.000000             0.784253   \n",
       "Decred - BTC Tweets  0.746946  0.784253             1.000000   \n",
       "Decred - ETH Tweets  0.610682  0.733593             0.784031   \n",
       "\n",
       "                     Decred - ETH Tweets  \n",
       "BTC-USD                         0.610682  \n",
       "ETH-USD                         0.733593  \n",
       "Decred - BTC Tweets             0.784031  \n",
       "Decred - ETH Tweets             1.000000  "
      ]
     },
     "execution_count": 269,
     "metadata": {},
     "output_type": "execute_result"
    }
   ],
   "source": [
    "new_training_data.corr() # fill median"
   ]
  },
  {
   "cell_type": "code",
   "execution_count": 291,
   "metadata": {},
   "outputs": [
    {
     "data": {
      "text/html": [
       "<div>\n",
       "<style scoped>\n",
       "    .dataframe tbody tr th:only-of-type {\n",
       "        vertical-align: middle;\n",
       "    }\n",
       "\n",
       "    .dataframe tbody tr th {\n",
       "        vertical-align: top;\n",
       "    }\n",
       "\n",
       "    .dataframe thead th {\n",
       "        text-align: right;\n",
       "    }\n",
       "</style>\n",
       "<table border=\"1\" class=\"dataframe\">\n",
       "  <thead>\n",
       "    <tr style=\"text-align: right;\">\n",
       "      <th></th>\n",
       "      <th>BTC-USD</th>\n",
       "      <th>ETH-USD</th>\n",
       "      <th>Decred - BTC Tweets</th>\n",
       "      <th>Decred - ETH Tweets</th>\n",
       "    </tr>\n",
       "  </thead>\n",
       "  <tbody>\n",
       "    <tr>\n",
       "      <th>BTC-USD</th>\n",
       "      <td>1.000000</td>\n",
       "      <td>0.912286</td>\n",
       "      <td>0.744475</td>\n",
       "      <td>0.607751</td>\n",
       "    </tr>\n",
       "    <tr>\n",
       "      <th>ETH-USD</th>\n",
       "      <td>0.912286</td>\n",
       "      <td>1.000000</td>\n",
       "      <td>0.784856</td>\n",
       "      <td>0.734330</td>\n",
       "    </tr>\n",
       "    <tr>\n",
       "      <th>Decred - BTC Tweets</th>\n",
       "      <td>0.744475</td>\n",
       "      <td>0.784856</td>\n",
       "      <td>1.000000</td>\n",
       "      <td>0.782858</td>\n",
       "    </tr>\n",
       "    <tr>\n",
       "      <th>Decred - ETH Tweets</th>\n",
       "      <td>0.607751</td>\n",
       "      <td>0.734330</td>\n",
       "      <td>0.782858</td>\n",
       "      <td>1.000000</td>\n",
       "    </tr>\n",
       "  </tbody>\n",
       "</table>\n",
       "</div>"
      ],
      "text/plain": [
       "                      BTC-USD   ETH-USD  Decred - BTC Tweets  \\\n",
       "BTC-USD              1.000000  0.912286             0.744475   \n",
       "ETH-USD              0.912286  1.000000             0.784856   \n",
       "Decred - BTC Tweets  0.744475  0.784856             1.000000   \n",
       "Decred - ETH Tweets  0.607751  0.734330             0.782858   \n",
       "\n",
       "                     Decred - ETH Tweets  \n",
       "BTC-USD                         0.607751  \n",
       "ETH-USD                         0.734330  \n",
       "Decred - BTC Tweets             0.782858  \n",
       "Decred - ETH Tweets             1.000000  "
      ]
     },
     "execution_count": 291,
     "metadata": {},
     "output_type": "execute_result"
    }
   ],
   "source": [
    "new_training_data.corr() # fill mean"
   ]
  },
  {
   "cell_type": "code",
   "execution_count": 300,
   "metadata": {},
   "outputs": [
    {
     "data": {
      "image/png": "[encoded data removed]",
      "text/plain": [
       "<Figure size 432x288 with 1 Axes>"
      ]
     },
     "metadata": {
      "needs_background": "light"
     },
     "output_type": "display_data"
    }
   ],
   "source": [
    "plt.plot(new_training_data['Decred - BTC Tweets'])\n",
    "plt.plot(new_training_data['Decred - ETH Tweets'])\n",
    "plt.show()"
   ]
  },
  {
   "cell_type": "code",
   "execution_count": null,
   "metadata": {},
   "outputs": [],
   "source": []
  }
 ],
 "metadata": {
  "kernelspec": {
   "display_name": "Python 3",
   "language": "python",
   "name": "python3"
  },
  "language_info": {
   "codemirror_mode": {
    "name": "ipython",
    "version": 3
   },
   "file_extension": ".py",
   "mimetype": "text/x-python",
   "name": "python",
   "nbconvert_exporter": "python",
   "pygments_lexer": "ipython3",
   "version": "3.8.3"
  }
 },
 "nbformat": 4,
 "nbformat_minor": 5
}
