{
 "cells": [
  {
   "cell_type": "code",
   "execution_count": 1,
   "metadata": {},
   "outputs": [],
   "source": [
    "import pandas as pd\n",
    "import numpy as np\n",
    "import matplotlib.pyplot as plt\n",
    "import scipy.stats as stat\n",
    "import statsmodels.api as sm\n",
    "\n",
    "from pandas_datareader import data\n",
    "from matplotlib.ticker import FuncFormatter \n",
    "from scipy.stats import norm\n",
    "%matplotlib inline\n",
    "# %matplotlib widget"
   ]
  },
  {
   "cell_type": "code",
   "execution_count": 2,
   "metadata": {},
   "outputs": [],
   "source": [
    "from datetime import datetime\n",
    "today = datetime.today().strftime('%Y-%m-%d')"
   ]
  },
  {
   "cell_type": "code",
   "execution_count": 3,
   "metadata": {},
   "outputs": [],
   "source": [
    "start_date = '2000-12-01'\n",
    "end_date = '2020-12-01'\n",
    "# end_date = today"
   ]
  },
  {
   "cell_type": "code",
   "execution_count": 4,
   "metadata": {},
   "outputs": [
    {
     "data": {
      "text/html": [
       "<div>\n",
       "<style scoped>\n",
       "    .dataframe tbody tr th:only-of-type {\n",
       "        vertical-align: middle;\n",
       "    }\n",
       "\n",
       "    .dataframe tbody tr th {\n",
       "        vertical-align: top;\n",
       "    }\n",
       "\n",
       "    .dataframe thead th {\n",
       "        text-align: right;\n",
       "    }\n",
       "</style>\n",
       "<table border=\"1\" class=\"dataframe\">\n",
       "  <thead>\n",
       "    <tr style=\"text-align: right;\">\n",
       "      <th>Symbols</th>\n",
       "      <th>BTC-USD</th>\n",
       "    </tr>\n",
       "    <tr>\n",
       "      <th>Date</th>\n",
       "      <th></th>\n",
       "    </tr>\n",
       "  </thead>\n",
       "  <tbody>\n",
       "    <tr>\n",
       "      <th>2014-09-16</th>\n",
       "      <td>457.334015</td>\n",
       "    </tr>\n",
       "    <tr>\n",
       "      <th>2014-09-17</th>\n",
       "      <td>424.440002</td>\n",
       "    </tr>\n",
       "    <tr>\n",
       "      <th>2014-09-18</th>\n",
       "      <td>394.795990</td>\n",
       "    </tr>\n",
       "    <tr>\n",
       "      <th>2014-09-19</th>\n",
       "      <td>408.903992</td>\n",
       "    </tr>\n",
       "    <tr>\n",
       "      <th>2014-09-20</th>\n",
       "      <td>398.821014</td>\n",
       "    </tr>\n",
       "  </tbody>\n",
       "</table>\n",
       "</div>"
      ],
      "text/plain": [
       "Symbols        BTC-USD\n",
       "Date                  \n",
       "2014-09-16  457.334015\n",
       "2014-09-17  424.440002\n",
       "2014-09-18  394.795990\n",
       "2014-09-19  408.903992\n",
       "2014-09-20  398.821014"
      ]
     },
     "execution_count": 4,
     "metadata": {},
     "output_type": "execute_result"
    }
   ],
   "source": [
    "ticker = ['BTC-USD']\n",
    "panel_data = data.DataReader(ticker, 'yahoo', start_date, end_date)\n",
    "#get the close price\n",
    "df = panel_data['Close']\n",
    "df.head()"
   ]
  },
  {
   "cell_type": "code",
   "execution_count": null,
   "metadata": {},
   "outputs": [],
   "source": [
    "tickers = ['ETH-USD','HEX-USD', 'BNB-USD','XRP-USD','SOL1-USD','DOT1-USD','DOGE-USD','UNI3-USD','AVAX-USD','LUNA1-USD','LINK-USD','ALGO-USD','LTC-USD','BCH-USD','ATOM1-USD','MATIC-USD','ICP1-USD','XLM-USD','FIL-USD','TRX-USD','ETC-USD']\n",
    "# tickers = ['ETH-USD']\n",
    "\n",
    "for ticker in tickers:\n",
    "    try:\n",
    "        panel_data = data.DataReader(ticker, 'yahoo', start_date, end_date)\n",
    "        panel_data_close = panel_data['Close']\n",
    "        df = pd.concat([df, panel_data_close.rename(ticker)], axis=1)\n",
    "    except:\n",
    "        pass"
   ]
  },
  {
   "cell_type": "code",
   "execution_count": null,
   "metadata": {},
   "outputs": [],
   "source": [
    "# ticker = ['AAPL', 'CAT']\n",
    "# df = data.DataReader(ticker, 'yahoo', start_date, end_date)"
   ]
  },
  {
   "cell_type": "code",
   "execution_count": null,
   "metadata": {},
   "outputs": [],
   "source": [
    "# df_pctchange = df['Adj Close'].pct_change()\n",
    "# df_pctchange"
   ]
  },
  {
   "cell_type": "code",
   "execution_count": null,
   "metadata": {},
   "outputs": [],
   "source": [
    "df = np.log(1+df.pct_change())"
   ]
  },
  {
   "cell_type": "code",
   "execution_count": null,
   "metadata": {},
   "outputs": [],
   "source": [
    "df"
   ]
  },
  {
   "cell_type": "markdown",
   "metadata": {},
   "source": [
    "### Return"
   ]
  },
  {
   "cell_type": "code",
   "execution_count": null,
   "metadata": {},
   "outputs": [],
   "source": [
    "# weights[0]*df.AAPL.mean() + weights[1]*df.CAT.mean()\n",
    "def portfolioreturn(weights):\n",
    "    return np.dot(df.mean(), weights)"
   ]
  },
  {
   "cell_type": "markdown",
   "metadata": {},
   "source": [
    "### Variance"
   ]
  },
  {
   "cell_type": "code",
   "execution_count": null,
   "metadata": {},
   "outputs": [],
   "source": [
    "df.cov()"
   ]
  },
  {
   "cell_type": "code",
   "execution_count": null,
   "metadata": {},
   "outputs": [],
   "source": [
    "# pv = weights[0]**2*df.cov().iloc[0,0] + weights[1]**2*df.cov().iloc[1,1] + 2*weights[0]*weights[1]*df.cov().iloc[0,1]\n",
    "# portfolio std\n",
    "# pv**(1/2)*np.sqrt(250)\n",
    "def portfoliostd(weights):\n",
    "    return np.dot(np.dot(df.cov(), weights), weights)**(1/2)*np.sqrt(250)"
   ]
  },
  {
   "cell_type": "markdown",
   "metadata": {},
   "source": [
    "### Others"
   ]
  },
  {
   "cell_type": "code",
   "execution_count": null,
   "metadata": {},
   "outputs": [],
   "source": [
    "def weightscreator(df):\n",
    "    rand = np.random.random(len(df.columns))\n",
    "    rand /= rand.sum()\n",
    "    return rand"
   ]
  },
  {
   "cell_type": "markdown",
   "metadata": {},
   "source": [
    "### Start Efficient Frontier"
   ]
  },
  {
   "cell_type": "code",
   "execution_count": null,
   "metadata": {},
   "outputs": [],
   "source": [
    "returns = []\n",
    "stds = []\n",
    "w = []\n",
    "\n",
    "for i in range(50000):\n",
    "    weights = weightscreator(df)\n",
    "    returns.append(portfolioreturn(weights))\n",
    "    stds.append(portfoliostd(weights))\n",
    "    w.append(weights)"
   ]
  },
  {
   "cell_type": "code",
   "execution_count": null,
   "metadata": {},
   "outputs": [],
   "source": []
  },
  {
   "cell_type": "code",
   "execution_count": 23,
   "metadata": {},
   "outputs": [
    {
     "data": {
      "image/png": "[encoded data removed]",
      "text/plain": [
       "<Figure size 432x288 with 1 Axes>"
      ]
     },
     "metadata": {
      "needs_background": "light"
     },
     "output_type": "display_data"
    }
   ],
   "source": [
    "plt.scatter(stds, returns)\n",
    "# plt.scatter(df.std().iloc[0]*np.sqrt(250), df.mean().iloc[0], c='k')\n",
    "# plt.scatter(df.std().iloc[1]*np.sqrt(250), df.mean().iloc[1], c='yellow')\n",
    "plt.scatter(min(stds), returns[stds.index(min(stds))], c='green')\n",
    "plt.title(\"Efficient frontier\")\n",
    "plt.xlabel(\"Portfoliostd\")\n",
    "plt.ylabel(\"Portfolioreturn\")\n",
    "plt.show()"
   ]
  },
  {
   "cell_type": "code",
   "execution_count": null,
   "metadata": {},
   "outputs": [],
   "source": []
  }
 ],
 "metadata": {
  "kernelspec": {
   "display_name": "Python 3",
   "language": "python",
   "name": "python3"
  },
  "language_info": {
   "codemirror_mode": {
    "name": "ipython",
    "version": 3
   },
   "file_extension": ".py",
   "mimetype": "text/x-python",
   "name": "python",
   "nbconvert_exporter": "python",
   "pygments_lexer": "ipython3",
   "version": "3.8.3"
  }
 },
 "nbformat": 4,
 "nbformat_minor": 5
}
